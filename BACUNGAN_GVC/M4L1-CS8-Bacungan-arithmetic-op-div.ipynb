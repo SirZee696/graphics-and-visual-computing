{
 "cells": [
  {
   "cell_type": "markdown",
   "id": "dbbff7fb",
   "metadata": {},
   "source": [
    "# Image Division (part 2)"
   ]
  },
  {
   "cell_type": "code",
   "execution_count": 2,
   "id": "2b8d44e3",
   "metadata": {},
   "outputs": [],
   "source": [
    "# Importing libraries\n",
    "import os\n",
    "import cv2\n",
    "import numpy as np\n",
    "import matplotlib.pyplot as plt"
   ]
  },
  {
   "cell_type": "code",
   "execution_count": 3,
   "id": "bf762585",
   "metadata": {},
   "outputs": [],
   "source": [
    "# additional library for slider\n",
    "from ipywidgets import interact, IntSlider, FloatSlider"
   ]
  },
  {
   "cell_type": "markdown",
   "id": "3706c914",
   "metadata": {},
   "source": [
    "check for root directory"
   ]
  },
  {
   "cell_type": "code",
   "execution_count": 4,
   "id": "2cbfba4d",
   "metadata": {},
   "outputs": [
    {
     "data": {
      "text/plain": [
       "'c:\\\\Users\\\\SirZee\\\\Documents\\\\GitHub\\\\graphics-and-visual-computing\\\\BACUNGAN_GVC'"
      ]
     },
     "execution_count": 4,
     "metadata": {},
     "output_type": "execute_result"
    }
   ],
   "source": [
    "pwd"
   ]
  },
  {
   "cell_type": "code",
   "execution_count": 5,
   "id": "17dd4f54",
   "metadata": {},
   "outputs": [
    {
     "name": "stdout",
     "output_type": "stream",
     "text": [
      "0 c:\\Users\\SirZee\\Documents\\GitHub\\graphics-and-visual-computing\\BACUNGAN_GVC\\blank_canvas_blue_rectangle.png\n",
      "1 c:\\Users\\SirZee\\Documents\\GitHub\\graphics-and-visual-computing\\BACUNGAN_GVC\\shapes1.jpg\n",
      "2 c:\\Users\\SirZee\\Documents\\GitHub\\graphics-and-visual-computing\\BACUNGAN_GVC\\resources\\blank_canvas_blue_rectangle.png\n",
      "3 c:\\Users\\SirZee\\Documents\\GitHub\\graphics-and-visual-computing\\BACUNGAN_GVC\\resources\\blank_canvas_blue_rectangle_resize.png\n",
      "4 c:\\Users\\SirZee\\Documents\\GitHub\\graphics-and-visual-computing\\BACUNGAN_GVC\\resources\\blank_canvas_blue_rectangle_revise.png\n",
      "5 c:\\Users\\SirZee\\Documents\\GitHub\\graphics-and-visual-computing\\BACUNGAN_GVC\\resources\\blank_canvas_violet_rectangle.png\n",
      "6 c:\\Users\\SirZee\\Documents\\GitHub\\graphics-and-visual-computing\\BACUNGAN_GVC\\resources\\cameraman.jpg\n",
      "7 c:\\Users\\SirZee\\Documents\\GitHub\\graphics-and-visual-computing\\BACUNGAN_GVC\\resources\\erod-2.jpg\n",
      "8 c:\\Users\\SirZee\\Documents\\GitHub\\graphics-and-visual-computing\\BACUNGAN_GVC\\resources\\forest1.jpg\n",
      "9 c:\\Users\\SirZee\\Documents\\GitHub\\graphics-and-visual-computing\\BACUNGAN_GVC\\resources\\forest2.jpg\n",
      "10 c:\\Users\\SirZee\\Documents\\GitHub\\graphics-and-visual-computing\\BACUNGAN_GVC\\resources\\lotion_gray.jpg\n",
      "11 c:\\Users\\SirZee\\Documents\\GitHub\\graphics-and-visual-computing\\BACUNGAN_GVC\\resources\\shapes1.jpg\n",
      "12 c:\\Users\\SirZee\\Documents\\GitHub\\graphics-and-visual-computing\\BACUNGAN_GVC\\resources\\splash_gray.jpg\n",
      "13 c:\\Users\\SirZee\\Documents\\GitHub\\graphics-and-visual-computing\\BACUNGAN_GVC\\resources\\squirel.jpg\n"
     ]
    }
   ],
   "source": [
    "# creating a file list\n",
    "file_list = []\n",
    "\n",
    "# traversing the root directory\n",
    "for (root, dirs, files) in os.walk(os.getcwd()):\n",
    "    for f in files:\n",
    "        if f.endswith(('jpg', 'jpeg', 'png')): # get all image files\n",
    "            file_list.append(os.path.join(root, f))\n",
    "\n",
    "# display all the image files with index number\n",
    "counter = 0;\n",
    "for file in file_list:\n",
    "    print(counter,file)\n",
    "    counter = counter + 1;"
   ]
  },
  {
   "cell_type": "code",
   "execution_count": 6,
   "id": "f00471f0",
   "metadata": {},
   "outputs": [],
   "source": [
    "image1_file_path = file_list[8] # use forest1.jpg"
   ]
  },
  {
   "cell_type": "code",
   "execution_count": 7,
   "id": "e7728480",
   "metadata": {},
   "outputs": [],
   "source": [
    "# opening the image and saving it in a variable\n",
    "forest1 = cv2.imread(image1_file_path)"
   ]
  },
  {
   "cell_type": "code",
   "execution_count": 8,
   "id": "30a9b028",
   "metadata": {},
   "outputs": [],
   "source": [
    "# Convert BGR images to RGB for proper display with Matplotlib\n",
    "forest1_rgb = cv2.cvtColor(forest1, cv2.COLOR_BGR2RGB)"
   ]
  },
  {
   "cell_type": "code",
   "execution_count": 9,
   "id": "3ee578f8",
   "metadata": {},
   "outputs": [],
   "source": [
    "def divide_constant_and_display(constant_value):\n",
    "     # Convert the image to float32 to maintain precision during division.\n",
    "    image_float = forest1_rgb.astype(np.float32)\n",
    "    \n",
    "    # Create a constant array with the same shape as the image.\n",
    "    constant_array = np.full(image_float.shape, constant_value, dtype=np.float32)\n",
    "    \n",
    "    # Divide the image by the constant array element-wise.\n",
    "    divided = cv2.divide(image_float, constant_array)\n",
    "    \n",
    "    # Clip the resulting values to the valid [0, 255] range and convert back to 8-bit.\n",
    "    result = np.clip(divided, 0, 255).astype(np.uint8)\n",
    "    \n",
    "    # Display the resulting image using matplotlib.\n",
    "    plt.figure(figsize=(6, 6))\n",
    "    plt.imshow(result)\n",
    "    plt.title(f\"Image divided by constant = {constant_value:.2f}\")\n",
    "    plt.axis(\"off\")\n",
    "    plt.show()"
   ]
  },
  {
   "cell_type": "code",
   "execution_count": null,
   "id": "a2445bc6",
   "metadata": {},
   "outputs": [
    {
     "data": {
      "application/vnd.jupyter.widget-view+json": {
       "model_id": "a7d462b922a64ab8a865ab44ea364e01",
       "version_major": 2,
       "version_minor": 0
      },
      "text/plain": [
       "interactive(children=(FloatSlider(value=1.0, description='Constant:', max=3.0, min=0.01, step=0.01), Output())…"
      ]
     },
     "metadata": {},
     "output_type": "display_data"
    }
   ],
   "source": [
    "interact(divide_constant_and_display, \n",
    "         constant_value=FloatSlider(value=1.0, min=0.01, max=3.0, step=0.01, description=\"Constant:\"));"
   ]
  },
  {
   "cell_type": "markdown",
   "id": "f0e12837",
   "metadata": {},
   "source": []
  }
 ],
 "metadata": {
  "kernelspec": {
   "display_name": "graphics-viscual-computing",
   "language": "python",
   "name": "python3"
  },
  "language_info": {
   "codemirror_mode": {
    "name": "ipython",
    "version": 3
   },
   "file_extension": ".py",
   "mimetype": "text/x-python",
   "name": "python",
   "nbconvert_exporter": "python",
   "pygments_lexer": "ipython3",
   "version": "3.9.19"
  }
 },
 "nbformat": 4,
 "nbformat_minor": 5
}
