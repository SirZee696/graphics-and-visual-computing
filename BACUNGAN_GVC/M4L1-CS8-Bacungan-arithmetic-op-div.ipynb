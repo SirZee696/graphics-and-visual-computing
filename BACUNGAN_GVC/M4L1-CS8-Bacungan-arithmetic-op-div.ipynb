{
 "cells": [
  {
   "cell_type": "markdown",
   "id": "dbbff7fb",
   "metadata": {},
   "source": [
    "# Image Subtraction (part 2)"
   ]
  },
  {
   "cell_type": "code",
   "execution_count": 1,
   "id": "2b8d44e3",
   "metadata": {},
   "outputs": [],
   "source": [
    "# Importing libraries\n",
    "import os\n",
    "import cv2\n",
    "import numpy as np\n",
    "import matplotlib.pyplot as plt"
   ]
  },
  {
   "cell_type": "code",
   "execution_count": 2,
   "id": "bf762585",
   "metadata": {},
   "outputs": [],
   "source": [
    "# additional library for slider\n",
    "from ipywidgets import interact, IntSlider"
   ]
  },
  {
   "cell_type": "code",
   "execution_count": 3,
   "id": "17dd4f54",
   "metadata": {},
   "outputs": [
    {
     "name": "stdout",
     "output_type": "stream",
     "text": [
      "0 c:\\Users\\Ezekiel\\Documents\\GitHub\\graphics-and-visual-computing\\BACUNGAN_GVC\\blank_canvas_blue_rectangle.png\n",
      "1 c:\\Users\\Ezekiel\\Documents\\GitHub\\graphics-and-visual-computing\\BACUNGAN_GVC\\shapes1.jpg\n",
      "2 c:\\Users\\Ezekiel\\Documents\\GitHub\\graphics-and-visual-computing\\BACUNGAN_GVC\\resources\\blank_canvas_blue_rectangle.png\n",
      "3 c:\\Users\\Ezekiel\\Documents\\GitHub\\graphics-and-visual-computing\\BACUNGAN_GVC\\resources\\blank_canvas_blue_rectangle_resize.png\n",
      "4 c:\\Users\\Ezekiel\\Documents\\GitHub\\graphics-and-visual-computing\\BACUNGAN_GVC\\resources\\blank_canvas_blue_rectangle_revise.png\n",
      "5 c:\\Users\\Ezekiel\\Documents\\GitHub\\graphics-and-visual-computing\\BACUNGAN_GVC\\resources\\blank_canvas_violet_rectangle.png\n",
      "6 c:\\Users\\Ezekiel\\Documents\\GitHub\\graphics-and-visual-computing\\BACUNGAN_GVC\\resources\\cameraman.jpg\n",
      "7 c:\\Users\\Ezekiel\\Documents\\GitHub\\graphics-and-visual-computing\\BACUNGAN_GVC\\resources\\forest1.jpg\n",
      "8 c:\\Users\\Ezekiel\\Documents\\GitHub\\graphics-and-visual-computing\\BACUNGAN_GVC\\resources\\forest2.jpg\n",
      "9 c:\\Users\\Ezekiel\\Documents\\GitHub\\graphics-and-visual-computing\\BACUNGAN_GVC\\resources\\lotion_gray.jpg\n",
      "10 c:\\Users\\Ezekiel\\Documents\\GitHub\\graphics-and-visual-computing\\BACUNGAN_GVC\\resources\\shapes1.jpg\n",
      "11 c:\\Users\\Ezekiel\\Documents\\GitHub\\graphics-and-visual-computing\\BACUNGAN_GVC\\resources\\splash_gray.jpg\n",
      "12 c:\\Users\\Ezekiel\\Documents\\GitHub\\graphics-and-visual-computing\\BACUNGAN_GVC\\resources\\squirel.jpg\n"
     ]
    }
   ],
   "source": [
    "# creating a file list\n",
    "file_list = []\n",
    "\n",
    "# traversing the root directory\n",
    "for (root, dirs, files) in os.walk(os.getcwd()):\n",
    "    for f in files:\n",
    "        if f.endswith(('jpg', 'jpeg', 'png')): # get all image files\n",
    "            file_list.append(os.path.join(root, f))\n",
    "\n",
    "# display all the image files with index number\n",
    "counter = 0;\n",
    "for file in file_list:\n",
    "    print(counter,file)\n",
    "    counter = counter + 1;"
   ]
  },
  {
   "cell_type": "code",
   "execution_count": 4,
   "id": "f00471f0",
   "metadata": {},
   "outputs": [],
   "source": [
    "image1_file_path = file_list[7] # use forest1.jpg"
   ]
  },
  {
   "cell_type": "code",
   "execution_count": 5,
   "id": "e7728480",
   "metadata": {},
   "outputs": [],
   "source": [
    "# opening the image and saving it in a variable\n",
    "forest1 = cv2.imread(image1_file_path)"
   ]
  },
  {
   "cell_type": "code",
   "execution_count": 6,
   "id": "30a9b028",
   "metadata": {},
   "outputs": [],
   "source": [
    "# Convert BGR images to RGB for proper display with Matplotlib\n",
    "forest1_rgb = cv2.cvtColor(forest1, cv2.COLOR_BGR2RGB)"
   ]
  },
  {
   "cell_type": "code",
   "execution_count": null,
   "id": "3ee578f8",
   "metadata": {},
   "outputs": [],
   "source": [
    "def subtract_constant_and_display(constant_value):\n",
    "    # Create an array with the same shape as the image, filled with the constant value\n",
    "    constant_array = np.full(forest1_rgb.shape, constant_value, dtype=np.uint8)\n",
    "    \n",
    "    # Subtract the constant array from the original image using cv2.subtract() \n",
    "    # which does saturated subtraction.\n",
    "    subtracted_image = cv2.subtract(forest1_rgb, constant_array)\n",
    "    \n",
    "    # Plot the resulting image\n",
    "    plt.figure(figsize=(6, 4))\n",
    "    plt.imshow(subtracted_image)\n",
    "    plt.title(f\"Image with Constant Value: {constant_value}\")\n",
    "    plt.axis(\"off\")\n",
    "    plt.show()"
   ]
  },
  {
   "cell_type": "code",
   "execution_count": null,
   "id": "a2445bc6",
   "metadata": {},
   "outputs": [
    {
     "data": {
      "application/vnd.jupyter.widget-view+json": {
       "model_id": "15aeb4394c9a42ca93d9a400e25997e3",
       "version_major": 2,
       "version_minor": 0
      },
      "text/plain": [
       "interactive(children=(IntSlider(value=0, description='constant_value', max=255), Output()), _dom_classes=('wid…"
      ]
     },
     "metadata": {},
     "output_type": "display_data"
    },
    {
     "data": {
      "text/plain": [
       "<function __main__.subtract_constant_and_display(constant_value)>"
      ]
     },
     "execution_count": 14,
     "metadata": {},
     "output_type": "execute_result"
    }
   ],
   "source": [
    "interact(subtract_constant_and_display, \n",
    "         constant_value=IntSlider(min=0, max=255, step=1, value=0))"
   ]
  },
  {
   "cell_type": "markdown",
   "id": "f0e12837",
   "metadata": {},
   "source": []
  }
 ],
 "metadata": {
  "kernelspec": {
   "display_name": "graphics-viscual-computing",
   "language": "python",
   "name": "python3"
  },
  "language_info": {
   "codemirror_mode": {
    "name": "ipython",
    "version": 3
   },
   "file_extension": ".py",
   "mimetype": "text/x-python",
   "name": "python",
   "nbconvert_exporter": "python",
   "pygments_lexer": "ipython3",
   "version": "3.9.19"
  }
 },
 "nbformat": 4,
 "nbformat_minor": 5
}
