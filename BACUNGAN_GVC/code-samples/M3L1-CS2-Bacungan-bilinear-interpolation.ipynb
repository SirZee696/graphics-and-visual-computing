{
 "cells": [
  {
   "cell_type": "markdown",
   "id": "3795234a-1a83-4228-a6ec-c7e0fdbe1497",
   "metadata": {},
   "source": [
    "# Bilinear Interpolation"
   ]
  },
  {
   "cell_type": "code",
   "execution_count": 2,
   "id": "18cac1ba-f0a2-408f-a234-d53eecb4e99a",
   "metadata": {},
   "outputs": [],
   "source": [
    "# Importing libraries\n",
    "import os\n",
    "import cv2\n",
    "import numpy as np\n",
    "import matplotlib.pyplot as plt\n",
    "import matplotlib"
   ]
  },
  {
   "cell_type": "markdown",
   "id": "8085111c-70f9-432d-97be-0dec9b448688",
   "metadata": {},
   "source": [
    "check for root directory"
   ]
  },
  {
   "cell_type": "code",
   "execution_count": 3,
   "id": "7cfd6ade-d8c8-47b8-a386-aea2451751e9",
   "metadata": {},
   "outputs": [
    {
     "data": {
      "text/plain": [
       "'C:\\\\Users\\\\Ezekiel\\\\Documents\\\\BACUNGAN_GVC'"
      ]
     },
     "execution_count": 3,
     "metadata": {},
     "output_type": "execute_result"
    }
   ],
   "source": [
    "pwd"
   ]
  },
  {
   "cell_type": "code",
   "execution_count": 4,
   "id": "0180f757-2712-4302-bb7e-d4bc8319d3b0",
   "metadata": {},
   "outputs": [
    {
     "name": "stdout",
     "output_type": "stream",
     "text": [
      "0 C:\\Users\\Ezekiel\\Documents\\BACUNGAN_GVC\\cameraman.jpg\n",
      "1 C:\\Users\\Ezekiel\\Documents\\BACUNGAN_GVC\\resources\\blank_canvas_blue_rectangle.png\n",
      "2 C:\\Users\\Ezekiel\\Documents\\BACUNGAN_GVC\\resources\\blank_canvas_blue_rectangle_resize.png\n",
      "3 C:\\Users\\Ezekiel\\Documents\\BACUNGAN_GVC\\resources\\blank_canvas_blue_rectangle_revise.png\n",
      "4 C:\\Users\\Ezekiel\\Documents\\BACUNGAN_GVC\\resources\\blank_canvas_violet_rectangle.png\n",
      "5 C:\\Users\\Ezekiel\\Documents\\BACUNGAN_GVC\\resources\\cameraman.jpg\n",
      "6 C:\\Users\\Ezekiel\\Documents\\BACUNGAN_GVC\\resources\\lotion_gray.jpg\n",
      "7 C:\\Users\\Ezekiel\\Documents\\BACUNGAN_GVC\\resources\\OpenCV.jpg\n",
      "8 C:\\Users\\Ezekiel\\Documents\\BACUNGAN_GVC\\resources\\shapes1.jpg\n",
      "9 C:\\Users\\Ezekiel\\Documents\\BACUNGAN_GVC\\resources\\splash_gray.jpg\n",
      "10 C:\\Users\\Ezekiel\\Documents\\BACUNGAN_GVC\\resources\\squirel.jpg\n"
     ]
    }
   ],
   "source": [
    "# creating a file list\n",
    "file_list = []\n",
    "for (root, dirs, files) in os.walk(os.getcwd()):\n",
    "    for f in files:\n",
    "        if f.endswith(('jpg', 'jpeg', 'png')): # get all image files\n",
    "            file_list.append(os.path.join(root, f))\n",
    "\n",
    "# display all the image files with index number\n",
    "counter = 0;\n",
    "for file in file_list:\n",
    "    print(counter,file)\n",
    "    counter = counter + 1;"
   ]
  },
  {
   "cell_type": "code",
   "execution_count": 5,
   "id": "5acb0a57-dd70-40a7-92f8-71eaf86eed36",
   "metadata": {},
   "outputs": [
    {
     "data": {
      "text/plain": [
       "array([[100, 150],\n",
       "       [200, 250]], dtype=uint8)"
      ]
     },
     "execution_count": 5,
     "metadata": {},
     "output_type": "execute_result"
    }
   ],
   "source": [
    "# creating a numpy array for bilinear interpolation\n",
    "img_bilinear_orig = np.array([[100, 150], [200, 250]], dtype=np.uint8)\n",
    "img_bilinear_orig"
   ]
  },
  {
   "cell_type": "code",
   "execution_count": 6,
   "id": "69610edf-fd9f-4cce-9e13-3ddd5b7062f1",
   "metadata": {},
   "outputs": [
    {
     "data": {
      "text/plain": [
       "<matplotlib.image.AxesImage at 0x23546d58fa0>"
      ]
     },
     "execution_count": 6,
     "metadata": {},
     "output_type": "execute_result"
    },
    {
     "data": {
      "image/png": "[encoded data removed]",
      "text/plain": [
       "<Figure size 200x200 with 1 Axes>"
      ]
     },
     "metadata": {},
     "output_type": "display_data"
    }
   ],
   "source": [
    "plt.figure(figsize=(2,2))\n",
    "plt.imshow(img_bilinear_orig, cmap='gray')"
   ]
  },
  {
   "cell_type": "code",
   "execution_count": 7,
   "id": "ecae7179-5b1e-4b06-bee3-f5a8c0d51dcd",
   "metadata": {},
   "outputs": [],
   "source": [
    "# Define upscale factor (e.g., 3x enlargement)\n",
    "scale_factor_bilinear = 3"
   ]
  },
  {
   "cell_type": "code",
   "execution_count": 8,
   "id": "d91a8702-3d35-49b8-acc4-83bacfe4ff79",
   "metadata": {},
   "outputs": [],
   "source": [
    "# Compute the new dimensions\n",
    "new_width_bilinear = img_bilinear_orig.shape[1] * scale_factor_bilinear\n",
    "new_height_bilinear = img_bilinear_orig.shape[0] * scale_factor_bilinear"
   ]
  },
  {
   "cell_type": "code",
   "execution_count": 11,
   "id": "6ba92e56-8fe7-46c7-8605-161d52f055d5",
   "metadata": {},
   "outputs": [],
   "source": [
    "# Resize using bilinear interpolation\n",
    "resized_img_bilinear = cv2.resize(img_bilinear_orig, (new_width_bilinear, new_height_bilinear), interpolation=cv2.INTER_LINEAR)"
   ]
  },
  {
   "cell_type": "code",
   "execution_count": 10,
   "id": "3939699d-9391-4945-96ad-621c874c9532",
   "metadata": {},
   "outputs": [
    {
     "data": {
      "text/plain": [
       "array([[100, 100, 103, 114, 125, 136, 147, 150, 150],\n",
       "       [100, 100, 103, 114, 125, 136, 147, 150, 150],\n",
       "       [133, 133, 136, 147, 158, 169, 180, 183, 183],\n",
       "       [167, 167, 169, 180, 191, 203, 214, 217, 217],\n",
       "       [200, 200, 203, 214, 225, 236, 247, 250, 250],\n",
       "       [200, 200, 203, 214, 225, 236, 247, 250, 250]], dtype=uint8)"
      ]
     },
     "execution_count": 10,
     "metadata": {},
     "output_type": "execute_result"
    }
   ],
   "source": [
    "resized_img_bilinear"
   ]
  },
  {
   "cell_type": "code",
   "execution_count": null,
   "id": "5d911b01-8506-4ea8-b3ac-a6c3a70062e9",
   "metadata": {},
   "outputs": [],
   "source": []
  }
 ],
 "metadata": {
  "kernelspec": {
   "display_name": "Python 3 (ipykernel)",
   "language": "python",
   "name": "python3"
  },
  "language_info": {
   "codemirror_mode": {
    "name": "ipython",
    "version": 3
   },
   "file_extension": ".py",
   "mimetype": "text/x-python",
   "name": "python",
   "nbconvert_exporter": "python",
   "pygments_lexer": "ipython3",
   "version": "3.9.19"
  }
 },
 "nbformat": 4,
 "nbformat_minor": 5
}
