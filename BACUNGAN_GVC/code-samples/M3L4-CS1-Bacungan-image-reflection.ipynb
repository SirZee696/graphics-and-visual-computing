{
 "cells": [
  {
   "cell_type": "code",
   "execution_count": 8,
   "id": "26e29d0f",
   "metadata": {},
   "outputs": [],
   "source": [
    "# Importing libraries\n",
    "import os\n",
    "import cv2\n",
    "import numpy as np\n",
    "import matplotlib.pyplot as plt"
   ]
  },
  {
   "cell_type": "markdown",
   "id": "8ac3a425",
   "metadata": {},
   "source": [
    "check for root dir"
   ]
  },
  {
   "cell_type": "code",
   "execution_count": 9,
   "id": "9142ae39",
   "metadata": {},
   "outputs": [
    {
     "data": {
      "text/plain": [
       "'c:\\\\Users\\\\SirZee\\\\Documents\\\\GitHub\\\\graphics-and-visual-computing\\\\BACUNGAN_GVC\\\\code-samples'"
      ]
     },
     "execution_count": 9,
     "metadata": {},
     "output_type": "execute_result"
    }
   ],
   "source": [
    "pwd"
   ]
  },
  {
   "cell_type": "markdown",
   "id": "c0807d06",
   "metadata": {},
   "source": [
    "create a list of image files"
   ]
  },
  {
   "cell_type": "code",
   "execution_count": 10,
   "id": "b5b87f5d",
   "metadata": {},
   "outputs": [
    {
     "name": "stdout",
     "output_type": "stream",
     "text": [
      "0 c:\\Users\\SirZee\\Documents\\GitHub\\graphics-and-visual-computing\\BACUNGAN_GVC\\code-samples\\blank_canvas_blue_rectangle.png\n",
      "1 c:\\Users\\SirZee\\Documents\\GitHub\\graphics-and-visual-computing\\BACUNGAN_GVC\\code-samples\\shapes1.jpg\n"
     ]
    }
   ],
   "source": [
    "# creating a file list\n",
    "file_list = []\n",
    "for (root, dirs, files) in os.walk(os.getcwd()):\n",
    "    for f in files:\n",
    "        if f.endswith(('jpg', 'jpeg', 'png')): # get all image files\n",
    "            file_list.append(os.path.join(root, f))\n",
    "\n",
    "# display all the image files with index number\n",
    "counter = 0;\n",
    "for file in file_list:\n",
    "    print(counter,file)\n",
    "    counter = counter + 1;"
   ]
  },
  {
   "cell_type": "code",
   "execution_count": 11,
   "id": "f2892b99",
   "metadata": {},
   "outputs": [
    {
     "name": "stdout",
     "output_type": "stream",
     "text": [
      "blank_canvas_blue_rectangle.png\n",
      "M2L1-CS1-Bacungan-creating-a-canvas.ipynb\n",
      "M2L1-CS2-Bacungan-drawing-shapes.ipynb\n",
      "M2L2-CS1-Bacungan-image-file-handling.ipynb\n",
      "M2L2-CS2-Bacungan-traversing-directories.ipynb\n",
      "M2L3-CS1-Bacungan-image-manipulation.ipynb\n",
      "M2L3-CS2-Bacungan-color-conversion.ipynb\n",
      "M2L3-CS3-Bacungan-creating-grayscale.ipynb\n",
      "M2L4-CS1-Bacungan-image-histograms.ipynb\n",
      "M2L4-CS2-Bacungan-colored-image-histograms.ipynb\n",
      "M2L4-CS2-Bacungan-image-equalization.ipynb\n",
      "M3L1-CS1-Bacungan-NN-interpolation.ipynb\n",
      "M3L1-CS2-Bacungan-bilinear-interpolation.ipynb\n",
      "M3L1-CS3-Bacungan-bicubic-interpolation.ipynb\n",
      "M3L2-CS1-Bacungan-translation.ipynb\n",
      "M3L3-CS1-Bacungan-image-rotation.ipynb\n",
      "M3L4-CS1-Bacungan-image-reflection.ipynb\n",
      "shapes1.jpg\n"
     ]
    }
   ],
   "source": [
    "file_list = []\n",
    "for (root, dirs, files) in os.walk(os.getcwd()):\n",
    "    for d in dirs:\n",
    "        print(d)\n",
    "    for f in files:\n",
    "        print(f)\n",
    "        "
   ]
  },
  {
   "cell_type": "code",
   "execution_count": null,
   "id": "743bead5",
   "metadata": {},
   "outputs": [],
   "source": []
  }
 ],
 "metadata": {
  "kernelspec": {
   "display_name": "graphics-viscual-computing",
   "language": "python",
   "name": "python3"
  },
  "language_info": {
   "codemirror_mode": {
    "name": "ipython",
    "version": 3
   },
   "file_extension": ".py",
   "mimetype": "text/x-python",
   "name": "python",
   "nbconvert_exporter": "python",
   "pygments_lexer": "ipython3",
   "version": "3.9.19"
  }
 },
 "nbformat": 4,
 "nbformat_minor": 5
}
