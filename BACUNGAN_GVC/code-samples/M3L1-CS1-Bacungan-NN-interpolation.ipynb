{
 "cells": [
  {
   "cell_type": "markdown",
   "id": "2ee3fc8a-3b0e-47ab-849b-ebe015f1bf8b",
   "metadata": {},
   "source": [
    "# Image Interpolation"
   ]
  },
  {
   "cell_type": "markdown",
   "id": "4cede4f4-8d97-4b73-8c47-db1a4fc5a0fd",
   "metadata": {},
   "source": [
    "Nearest Neighbor Interpolation"
   ]
  },
  {
   "cell_type": "code",
   "execution_count": 29,
   "id": "9f67db2a-d7e5-46f6-908d-86f48177d9eb",
   "metadata": {},
   "outputs": [],
   "source": [
    "# Importing libraries\n",
    "import os\n",
    "import cv2\n",
    "import numpy as np\n",
    "import matplotlib.pyplot as plt\n",
    "# import matplotlib"
   ]
  },
  {
   "cell_type": "markdown",
   "id": "1346690a-dc7f-407e-82f3-862ab08654c4",
   "metadata": {},
   "source": [
    "check for root directory"
   ]
  },
  {
   "cell_type": "code",
   "execution_count": 30,
   "id": "655b78ee-6c16-4c99-8fd9-121df1843263",
   "metadata": {},
   "outputs": [
    {
     "data": {
      "text/plain": [
       "'C:\\\\Users\\\\Ezekiel\\\\Documents\\\\BACUNGAN_GVC'"
      ]
     },
     "execution_count": 30,
     "metadata": {},
     "output_type": "execute_result"
    }
   ],
   "source": [
    "pwd"
   ]
  },
  {
   "cell_type": "code",
   "execution_count": 31,
   "id": "7fe9bcf2-e6cb-47f5-94de-4fec04a041ad",
   "metadata": {},
   "outputs": [
    {
     "name": "stdout",
     "output_type": "stream",
     "text": [
      "0 C:\\Users\\Ezekiel\\Documents\\BACUNGAN_GVC\\cameraman.jpg\n",
      "1 C:\\Users\\Ezekiel\\Documents\\BACUNGAN_GVC\\resources\\blank_canvas_blue_rectangle.png\n",
      "2 C:\\Users\\Ezekiel\\Documents\\BACUNGAN_GVC\\resources\\blank_canvas_blue_rectangle_resize.png\n",
      "3 C:\\Users\\Ezekiel\\Documents\\BACUNGAN_GVC\\resources\\blank_canvas_blue_rectangle_revise.png\n",
      "4 C:\\Users\\Ezekiel\\Documents\\BACUNGAN_GVC\\resources\\blank_canvas_violet_rectangle.png\n",
      "5 C:\\Users\\Ezekiel\\Documents\\BACUNGAN_GVC\\resources\\cameraman.jpg\n",
      "6 C:\\Users\\Ezekiel\\Documents\\BACUNGAN_GVC\\resources\\lotion_gray.jpg\n",
      "7 C:\\Users\\Ezekiel\\Documents\\BACUNGAN_GVC\\resources\\OpenCV.jpg\n",
      "8 C:\\Users\\Ezekiel\\Documents\\BACUNGAN_GVC\\resources\\shapes1.jpg\n",
      "9 C:\\Users\\Ezekiel\\Documents\\BACUNGAN_GVC\\resources\\splash_gray.jpg\n",
      "10 C:\\Users\\Ezekiel\\Documents\\BACUNGAN_GVC\\resources\\squirel.jpg\n"
     ]
    }
   ],
   "source": [
    "# creating a file list\n",
    "file_list = []\n",
    "for (root, dirs, files) in os.walk(os.getcwd()):\n",
    "    for f in files:\n",
    "        if f.endswith(('jpg', 'jpeg', 'png')): # get all image files\n",
    "            file_list.append(os.path.join(root, f))\n",
    "\n",
    "# display all the image files with index number\n",
    "counter = 0;\n",
    "for file in file_list:\n",
    "    print(counter,file)\n",
    "    counter = counter + 1;"
   ]
  },
  {
   "cell_type": "code",
   "execution_count": 32,
   "id": "687b49b9-1735-4a57-ad52-838a2d228872",
   "metadata": {},
   "outputs": [],
   "source": [
    "# TESTING Nearest Neighbor\n",
    "# Create a simple 2x2 image for demonstration (each pixel represented \n",
    "# by a unique value)\n",
    "# For instance, our image pixels:\n",
    "# [ [  0, 255],\n",
    "#   [255,   0] ]\n",
    "img = np.array([[0, 255],\n",
    "                [255, 0]], dtype=np.uint8)"
   ]
  },
  {
   "cell_type": "code",
   "execution_count": 33,
   "id": "6a210305-4fdf-44d9-9481-e2ab5c25042a",
   "metadata": {},
   "outputs": [
    {
     "data": {
      "text/plain": [
       "array([[  0, 255],\n",
       "       [255,   0]], dtype=uint8)"
      ]
     },
     "execution_count": 33,
     "metadata": {},
     "output_type": "execute_result"
    }
   ],
   "source": [
    "# see the values of img\n",
    "img"
   ]
  },
  {
   "cell_type": "code",
   "execution_count": 35,
   "id": "d794a742-d526-482a-8abf-9d822587b5f9",
   "metadata": {},
   "outputs": [
    {
     "data": {
      "text/plain": [
       "<matplotlib.image.AxesImage at 0x1fe17713040>"
      ]
     },
     "execution_count": 35,
     "metadata": {},
     "output_type": "execute_result"
    },
    {
     "data": {
      "image/png": "[encoded data removed]",
      "text/plain": [
       "<Figure size 200x200 with 1 Axes>"
      ]
     },
     "metadata": {},
     "output_type": "display_data"
    }
   ],
   "source": [
    "plt.figure(figsize=(2,2))\n",
    "plt.imshow(img, cmap='gray')"
   ]
  },
  {
   "cell_type": "code",
   "execution_count": 36,
   "id": "2279a034-fe61-475b-a6d4-a7ee771c8f48",
   "metadata": {},
   "outputs": [],
   "source": [
    "# Define upscale factor (e.g., 2x enlargement)\n",
    "scale_factor = 2"
   ]
  },
  {
   "cell_type": "code",
   "execution_count": 37,
   "id": "88d25702-5689-4afc-94cc-047d64397931",
   "metadata": {},
   "outputs": [],
   "source": [
    "new_width = img.shape[1] * scale_factor\n",
    "new_height = img.shape[0] * scale_factor"
   ]
  },
  {
   "cell_type": "code",
   "execution_count": 39,
   "id": "9ac29b67-c5d1-4b2c-a4ce-cbb156694fe6",
   "metadata": {},
   "outputs": [],
   "source": [
    "resized_img = cv2.resize(img, (new_height, new_width), interpolation=cv2.INTER_NEAREST)"
   ]
  },
  {
   "cell_type": "code",
   "execution_count": 40,
   "id": "02aab159-1a50-4a17-a397-a33e1057b49e",
   "metadata": {},
   "outputs": [
    {
     "data": {
      "text/plain": [
       "array([[  0,   0, 255, 255],\n",
       "       [  0,   0, 255, 255],\n",
       "       [255, 255,   0,   0],\n",
       "       [255, 255,   0,   0]], dtype=uint8)"
      ]
     },
     "execution_count": 40,
     "metadata": {},
     "output_type": "execute_result"
    }
   ],
   "source": [
    "resized_img"
   ]
  },
  {
   "cell_type": "code",
   "execution_count": 41,
   "id": "69a9c907-bd67-4e79-80df-d1d6fe458bc9",
   "metadata": {},
   "outputs": [
    {
     "data": {
      "image/png": "[encoded data removed]",
      "text/plain": [
       "<Figure size 800x400 with 2 Axes>"
      ]
     },
     "metadata": {},
     "output_type": "display_data"
    }
   ],
   "source": [
    "# Display both images for comparison\n",
    "plt.figure(figsize=(8, 4))\n",
    "\n",
    "plt.subplot(1, 2, 1)\n",
    "plt.title(\"Original Image (2x2)\")\n",
    "plt.imshow(img, cmap='gray', vmin=0, vmax=255)\n",
    "plt.axis('off')\n",
    "\n",
    "plt.subplot(1, 2, 2)\n",
    "plt.title(\"Resized Image (Nearest Neighbor)\")\n",
    "plt.imshow(resized_img, cmap='gray', vmin=0, vmax=255)\n",
    "plt.axis('off')\n",
    "\n",
    "plt.show()"
   ]
  },
  {
   "cell_type": "code",
   "execution_count": null,
   "id": "d13b7052-8a47-4c4f-8c24-a625fd46fb38",
   "metadata": {},
   "outputs": [],
   "source": []
  }
 ],
 "metadata": {
  "kernelspec": {
   "display_name": "Python 3 (ipykernel)",
   "language": "python",
   "name": "python3"
  },
  "language_info": {
   "codemirror_mode": {
    "name": "ipython",
    "version": 3
   },
   "file_extension": ".py",
   "mimetype": "text/x-python",
   "name": "python",
   "nbconvert_exporter": "python",
   "pygments_lexer": "ipython3",
   "version": "3.9.19"
  }
 },
 "nbformat": 4,
 "nbformat_minor": 5
}
