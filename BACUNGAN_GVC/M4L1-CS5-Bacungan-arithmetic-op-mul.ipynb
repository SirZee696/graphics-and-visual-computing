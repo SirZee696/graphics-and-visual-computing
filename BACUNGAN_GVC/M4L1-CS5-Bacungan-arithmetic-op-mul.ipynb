{
 "cells": [
  {
   "cell_type": "markdown",
   "id": "68c5736e",
   "metadata": {},
   "source": [
    "# Image Multiplication"
   ]
  },
  {
   "cell_type": "code",
   "execution_count": 1,
   "id": "b95cea6e",
   "metadata": {},
   "outputs": [],
   "source": [
    "# Importing libraries\n",
    "import os\n",
    "import cv2\n",
    "import numpy as np\n",
    "import matplotlib.pyplot as plt"
   ]
  },
  {
   "cell_type": "markdown",
   "id": "8ee24bb2",
   "metadata": {},
   "source": [
    "check for root directory"
   ]
  },
  {
   "cell_type": "code",
   "execution_count": 2,
   "id": "ef727fab",
   "metadata": {},
   "outputs": [
    {
     "data": {
      "text/plain": [
       "'c:\\\\Users\\\\Ezekiel\\\\Documents\\\\GitHub\\\\graphics-and-visual-computing\\\\BACUNGAN_GVC'"
      ]
     },
     "execution_count": 2,
     "metadata": {},
     "output_type": "execute_result"
    }
   ],
   "source": [
    "pwd"
   ]
  },
  {
   "cell_type": "code",
   "execution_count": 3,
   "id": "8a27006c",
   "metadata": {},
   "outputs": [
    {
     "name": "stdout",
     "output_type": "stream",
     "text": [
      "0 c:\\Users\\Ezekiel\\Documents\\GitHub\\graphics-and-visual-computing\\BACUNGAN_GVC\\blank_canvas_blue_rectangle.png\n",
      "1 c:\\Users\\Ezekiel\\Documents\\GitHub\\graphics-and-visual-computing\\BACUNGAN_GVC\\shapes1.jpg\n",
      "2 c:\\Users\\Ezekiel\\Documents\\GitHub\\graphics-and-visual-computing\\BACUNGAN_GVC\\resources\\blank_canvas_blue_rectangle.png\n",
      "3 c:\\Users\\Ezekiel\\Documents\\GitHub\\graphics-and-visual-computing\\BACUNGAN_GVC\\resources\\blank_canvas_blue_rectangle_resize.png\n",
      "4 c:\\Users\\Ezekiel\\Documents\\GitHub\\graphics-and-visual-computing\\BACUNGAN_GVC\\resources\\blank_canvas_blue_rectangle_revise.png\n",
      "5 c:\\Users\\Ezekiel\\Documents\\GitHub\\graphics-and-visual-computing\\BACUNGAN_GVC\\resources\\blank_canvas_violet_rectangle.png\n",
      "6 c:\\Users\\Ezekiel\\Documents\\GitHub\\graphics-and-visual-computing\\BACUNGAN_GVC\\resources\\cameraman.jpg\n",
      "7 c:\\Users\\Ezekiel\\Documents\\GitHub\\graphics-and-visual-computing\\BACUNGAN_GVC\\resources\\forest1.jpg\n",
      "8 c:\\Users\\Ezekiel\\Documents\\GitHub\\graphics-and-visual-computing\\BACUNGAN_GVC\\resources\\forest2.jpg\n",
      "9 c:\\Users\\Ezekiel\\Documents\\GitHub\\graphics-and-visual-computing\\BACUNGAN_GVC\\resources\\lotion_gray.jpg\n",
      "10 c:\\Users\\Ezekiel\\Documents\\GitHub\\graphics-and-visual-computing\\BACUNGAN_GVC\\resources\\shapes1.jpg\n",
      "11 c:\\Users\\Ezekiel\\Documents\\GitHub\\graphics-and-visual-computing\\BACUNGAN_GVC\\resources\\splash_gray.jpg\n",
      "12 c:\\Users\\Ezekiel\\Documents\\GitHub\\graphics-and-visual-computing\\BACUNGAN_GVC\\resources\\squirel.jpg\n"
     ]
    }
   ],
   "source": [
    "# creating a file list\n",
    "file_list = []\n",
    "\n",
    "# traversing the root directory\n",
    "for (root, dirs, files) in os.walk(os.getcwd()):\n",
    "    for f in files:\n",
    "        if f.endswith(('jpg', 'jpeg', 'png')): # get all image files\n",
    "            file_list.append(os.path.join(root, f))\n",
    "\n",
    "# display all the image files with index number\n",
    "counter = 0;\n",
    "for file in file_list:\n",
    "    print(counter,file)\n",
    "    counter = counter + 1;"
   ]
  },
  {
   "cell_type": "code",
   "execution_count": 4,
   "id": "c29fd55f",
   "metadata": {},
   "outputs": [],
   "source": [
    "# saving the image path in a variable\n",
    "image1_file_path = file_list[7] # use forest1.jpg\n",
    "image2_file_path = file_list[8] # use forest2.jpg"
   ]
  },
  {
   "cell_type": "code",
   "execution_count": 5,
   "id": "37b30948",
   "metadata": {},
   "outputs": [],
   "source": [
    "# opening the image and saving it in a variable\n",
    "forest1 = cv2.imread(image1_file_path)\n",
    "forest2 = cv2.imread(image2_file_path)"
   ]
  },
  {
   "cell_type": "code",
   "execution_count": 6,
   "id": "4b97210f",
   "metadata": {},
   "outputs": [
    {
     "data": {
      "text/plain": [
       "-1"
      ]
     },
     "execution_count": 6,
     "metadata": {},
     "output_type": "execute_result"
    }
   ],
   "source": [
    "# Openning images in cv2. does not require converting the images to RGB\n",
    "out = cv2.hconcat([forest1, forest2])\n",
    "cv2.imshow('forest1 and forest 2', out)\n",
    "\n",
    "# use this to close image window for WINDOWS-OS\n",
    "cv2.waitKey()\n",
    "\n",
    "# use this to close image window for MAC-OS\n",
    "# cv2.waitKey()\n",
    "# cv2.destroyAllWindows()\n",
    "# cv2.waitKey(1)"
   ]
  },
  {
   "cell_type": "code",
   "execution_count": null,
   "id": "b1cdedc2",
   "metadata": {},
   "outputs": [],
   "source": [
    "#subract the two images together\n",
    "forest_multiplied = cv2.multiply(forest1, forest2)\n",
    "\n",
    "# Convert BGR images to RGB for proper display with Matplotlib\n",
    "forest1_rgb = cv2.cvtColor(forest1, cv2.COLOR_BGR2RGB)\n",
    "forest2_rgb = cv2.cvtColor(forest2, cv2.COLOR_BGR2RGB)\n",
    "forest_subtracted_rgb = cv2.cvtColor(forest_multiplied, cv2.COLOR_BGR2RGB)"
   ]
  }
 ],
 "metadata": {
  "kernelspec": {
   "display_name": "graphics-viscual-computing",
   "language": "python",
   "name": "python3"
  },
  "language_info": {
   "codemirror_mode": {
    "name": "ipython",
    "version": 3
   },
   "file_extension": ".py",
   "mimetype": "text/x-python",
   "name": "python",
   "nbconvert_exporter": "python",
   "pygments_lexer": "ipython3",
   "version": "3.9.19"
  }
 },
 "nbformat": 4,
 "nbformat_minor": 5
}
