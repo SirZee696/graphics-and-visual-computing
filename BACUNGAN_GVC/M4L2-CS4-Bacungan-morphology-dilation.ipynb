{
 "cells": [
  {
   "cell_type": "markdown",
   "id": "dbbff7fb",
   "metadata": {},
   "source": [
    "# Erosion (Part 2)"
   ]
  },
  {
   "cell_type": "code",
   "execution_count": 1,
   "id": "2b8d44e3",
   "metadata": {},
   "outputs": [],
   "source": [
    "# Importing libraries\n",
    "import os\n",
    "import cv2\n",
    "import numpy as np\n",
    "import matplotlib.pyplot as plt"
   ]
  },
  {
   "cell_type": "markdown",
   "id": "0c789b98",
   "metadata": {},
   "source": [
    "install ipywidgets for slider"
   ]
  },
  {
   "cell_type": "code",
   "execution_count": 2,
   "id": "e622e6fb",
   "metadata": {},
   "outputs": [],
   "source": [
    "# pip install ipywidgets"
   ]
  },
  {
   "cell_type": "code",
   "execution_count": 11,
   "id": "bf762585",
   "metadata": {},
   "outputs": [],
   "source": [
    "# additional library for slider\n",
    "from ipywidgets import interact, IntSlider, FloatSlider"
   ]
  },
  {
   "cell_type": "markdown",
   "id": "d335f172",
   "metadata": {},
   "source": [
    "check root directory"
   ]
  },
  {
   "cell_type": "code",
   "execution_count": 4,
   "id": "235ac9e2",
   "metadata": {},
   "outputs": [
    {
     "data": {
      "text/plain": [
       "'c:\\\\Users\\\\SirZee\\\\Documents\\\\GitHub\\\\graphics-and-visual-computing\\\\BACUNGAN_GVC'"
      ]
     },
     "execution_count": 4,
     "metadata": {},
     "output_type": "execute_result"
    }
   ],
   "source": [
    "pwd"
   ]
  },
  {
   "cell_type": "code",
   "execution_count": 5,
   "id": "17dd4f54",
   "metadata": {},
   "outputs": [
    {
     "name": "stdout",
     "output_type": "stream",
     "text": [
      "0 c:\\Users\\SirZee\\Documents\\GitHub\\graphics-and-visual-computing\\BACUNGAN_GVC\\blank_canvas_blue_rectangle.png\n",
      "1 c:\\Users\\SirZee\\Documents\\GitHub\\graphics-and-visual-computing\\BACUNGAN_GVC\\shapes1.jpg\n",
      "2 c:\\Users\\SirZee\\Documents\\GitHub\\graphics-and-visual-computing\\BACUNGAN_GVC\\resources\\blank_canvas_blue_rectangle.png\n",
      "3 c:\\Users\\SirZee\\Documents\\GitHub\\graphics-and-visual-computing\\BACUNGAN_GVC\\resources\\blank_canvas_blue_rectangle_resize.png\n",
      "4 c:\\Users\\SirZee\\Documents\\GitHub\\graphics-and-visual-computing\\BACUNGAN_GVC\\resources\\blank_canvas_blue_rectangle_revise.png\n",
      "5 c:\\Users\\SirZee\\Documents\\GitHub\\graphics-and-visual-computing\\BACUNGAN_GVC\\resources\\blank_canvas_violet_rectangle.png\n",
      "6 c:\\Users\\SirZee\\Documents\\GitHub\\graphics-and-visual-computing\\BACUNGAN_GVC\\resources\\cameraman.jpg\n",
      "7 c:\\Users\\SirZee\\Documents\\GitHub\\graphics-and-visual-computing\\BACUNGAN_GVC\\resources\\erod-2.jpg\n",
      "8 c:\\Users\\SirZee\\Documents\\GitHub\\graphics-and-visual-computing\\BACUNGAN_GVC\\resources\\forest1.jpg\n",
      "9 c:\\Users\\SirZee\\Documents\\GitHub\\graphics-and-visual-computing\\BACUNGAN_GVC\\resources\\forest2.jpg\n",
      "10 c:\\Users\\SirZee\\Documents\\GitHub\\graphics-and-visual-computing\\BACUNGAN_GVC\\resources\\lotion_gray.jpg\n",
      "11 c:\\Users\\SirZee\\Documents\\GitHub\\graphics-and-visual-computing\\BACUNGAN_GVC\\resources\\shapes1.jpg\n",
      "12 c:\\Users\\SirZee\\Documents\\GitHub\\graphics-and-visual-computing\\BACUNGAN_GVC\\resources\\splash_gray.jpg\n",
      "13 c:\\Users\\SirZee\\Documents\\GitHub\\graphics-and-visual-computing\\BACUNGAN_GVC\\resources\\squirel.jpg\n"
     ]
    }
   ],
   "source": [
    "# creating a file list\n",
    "file_list = []\n",
    "\n",
    "# traversing the root directory\n",
    "for (root, dirs, files) in os.walk(os.getcwd()):\n",
    "    for f in files:\n",
    "        if f.endswith(('jpg', 'jpeg', 'png')): # get all image files\n",
    "            file_list.append(os.path.join(root, f))\n",
    "\n",
    "# display all the image files with index number\n",
    "counter = 0;\n",
    "for file in file_list:\n",
    "    print(counter,file)\n",
    "    counter = counter + 1;"
   ]
  },
  {
   "cell_type": "code",
   "execution_count": 6,
   "id": "f00471f0",
   "metadata": {},
   "outputs": [],
   "source": [
    "# saving the file path to a variable\n",
    "image1_file_path = file_list[7] # use erod-2.jpg"
   ]
  },
  {
   "cell_type": "code",
   "execution_count": 7,
   "id": "e7728480",
   "metadata": {},
   "outputs": [],
   "source": [
    "# opening the image and saving it in a variable\n",
    "image_dilate_in = cv2.imread(image1_file_path)"
   ]
  },
  {
   "cell_type": "code",
   "execution_count": 8,
   "id": "30a9b028",
   "metadata": {},
   "outputs": [
    {
     "data": {
      "text/plain": [
       "-1"
      ]
     },
     "execution_count": 8,
     "metadata": {},
     "output_type": "execute_result"
    }
   ],
   "source": [
    "# Convert BGR images to RGB for proper display with Matplotlib\n",
    "cv2.imshow(\"image\", image_dilate_in)\n",
    "cv2.waitKey()"
   ]
  },
  {
   "cell_type": "code",
   "execution_count": 9,
   "id": "3ee578f8",
   "metadata": {},
   "outputs": [],
   "source": [
    "# a function that applies dilation with different kernel sizes\n",
    "def apply_dilation(kernel_size):\n",
    "    # Define structuring element dynamically\n",
    "    kernel = np.ones((kernel_size, kernel_size), np.uint8)\n",
    "    \n",
    "    # Apply dilation\n",
    "    dilated_image = cv2.dilate(image_dilate_in, kernel, iterations=1)\n",
    "    \n",
    "    # Display result\n",
    "    plt.figure(figsize=(5,5))\n",
    "    plt.imshow(dilated_image, cmap='gray')\n",
    "    plt.title(f\"Dilation with {kernel_size}x{kernel_size} Kernel\")\n",
    "    plt.show()"
   ]
  },
  {
   "cell_type": "code",
   "execution_count": 12,
   "id": "a2445bc6",
   "metadata": {},
   "outputs": [
    {
     "data": {
      "application/vnd.jupyter.widget-view+json": {
       "model_id": "3f6b5cb93cf149c2b4b7fbd9c5894a28",
       "version_major": 2,
       "version_minor": 0
      },
      "text/plain": [
       "interactive(children=(IntSlider(value=1, description='Kernel Size:', max=5, min=1), Output()), _dom_classes=('…"
      ]
     },
     "metadata": {},
     "output_type": "display_data"
    }
   ],
   "source": [
    "interact(apply_dilation, \n",
    "         kernel_size=IntSlider(value=1, min=1, max=5, step=1, description=\"Kernel Size:\"));"
   ]
  },
  {
   "cell_type": "markdown",
   "id": "f0e12837",
   "metadata": {},
   "source": []
  }
 ],
 "metadata": {
  "kernelspec": {
   "display_name": "graphics-viscual-computing",
   "language": "python",
   "name": "python3"
  },
  "language_info": {
   "codemirror_mode": {
    "name": "ipython",
    "version": 3
   },
   "file_extension": ".py",
   "mimetype": "text/x-python",
   "name": "python",
   "nbconvert_exporter": "python",
   "pygments_lexer": "ipython3",
   "version": "3.9.19"
  }
 },
 "nbformat": 4,
 "nbformat_minor": 5
}
