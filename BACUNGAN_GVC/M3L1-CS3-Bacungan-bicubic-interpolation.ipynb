{
 "cells": [
  {
   "cell_type": "markdown",
   "id": "f8100fb3-7b8d-4ab1-965d-3ac5c573616d",
   "metadata": {},
   "source": [
    "# Bicubic Interpolation"
   ]
  },
  {
   "cell_type": "code",
   "execution_count": 1,
   "id": "818b736c-28fc-4550-89e4-e03a1ee031d9",
   "metadata": {},
   "outputs": [],
   "source": [
    "# Importing libraries\n",
    "import os\n",
    "import cv2\n",
    "import numpy as np\n",
    "import matplotlib.pyplot as plt\n",
    "import matplotlib"
   ]
  },
  {
   "cell_type": "markdown",
   "id": "a3d3c26b-ef61-4f60-835f-9b30e382a244",
   "metadata": {},
   "source": [
    "check for root directory"
   ]
  },
  {
   "cell_type": "code",
   "execution_count": 2,
   "id": "30a1d57a-b101-4505-9c64-42291940e1d2",
   "metadata": {},
   "outputs": [
    {
     "data": {
      "text/plain": [
       "'C:\\\\Users\\\\Ezekiel\\\\Documents\\\\BACUNGAN_GVC'"
      ]
     },
     "execution_count": 2,
     "metadata": {},
     "output_type": "execute_result"
    }
   ],
   "source": [
    "pwd"
   ]
  },
  {
   "cell_type": "code",
   "execution_count": 3,
   "id": "6ff0211f-fc00-4503-aa48-82623dd6e3b3",
   "metadata": {},
   "outputs": [
    {
     "name": "stdout",
     "output_type": "stream",
     "text": [
      "0 C:\\Users\\Ezekiel\\Documents\\BACUNGAN_GVC\\cameraman.jpg\n",
      "1 C:\\Users\\Ezekiel\\Documents\\BACUNGAN_GVC\\resources\\blank_canvas_blue_rectangle.png\n",
      "2 C:\\Users\\Ezekiel\\Documents\\BACUNGAN_GVC\\resources\\blank_canvas_blue_rectangle_resize.png\n",
      "3 C:\\Users\\Ezekiel\\Documents\\BACUNGAN_GVC\\resources\\blank_canvas_blue_rectangle_revise.png\n",
      "4 C:\\Users\\Ezekiel\\Documents\\BACUNGAN_GVC\\resources\\blank_canvas_violet_rectangle.png\n",
      "5 C:\\Users\\Ezekiel\\Documents\\BACUNGAN_GVC\\resources\\cameraman.jpg\n",
      "6 C:\\Users\\Ezekiel\\Documents\\BACUNGAN_GVC\\resources\\lotion_gray.jpg\n",
      "7 C:\\Users\\Ezekiel\\Documents\\BACUNGAN_GVC\\resources\\shapes1.jpg\n",
      "8 C:\\Users\\Ezekiel\\Documents\\BACUNGAN_GVC\\resources\\splash_gray.jpg\n",
      "9 C:\\Users\\Ezekiel\\Documents\\BACUNGAN_GVC\\resources\\squirel.jpg\n"
     ]
    }
   ],
   "source": [
    "# creating a file list\n",
    "file_list = []\n",
    "for (root, dirs, files) in os.walk(os.getcwd()):\n",
    "    for f in files:\n",
    "        if f.endswith(('jpg', 'jpeg', 'png')): # get all image files\n",
    "            file_list.append(os.path.join(root, f))\n",
    "\n",
    "# display all the image files with index number\n",
    "counter = 0;\n",
    "for file in file_list:\n",
    "    print(counter,file)\n",
    "    counter = counter + 1;"
   ]
  },
  {
   "cell_type": "code",
   "execution_count": 4,
   "id": "5160b7f0-8047-43fb-a20b-803aa807067e",
   "metadata": {},
   "outputs": [
    {
     "data": {
      "text/plain": [
       "array([[100, 150],\n",
       "       [200, 250]], dtype=uint8)"
      ]
     },
     "execution_count": 4,
     "metadata": {},
     "output_type": "execute_result"
    }
   ],
   "source": [
    "# createing an array for bicubic interpolation\n",
    "img_bicubic_orig = np.array([[100, 150], [200, 250]], dtype=np.uint8)\n",
    "img_bicubic_orig"
   ]
  },
  {
   "cell_type": "code",
   "execution_count": 5,
   "id": "c624be96-65c4-400a-998e-26f8dc2ae686",
   "metadata": {},
   "outputs": [
    {
     "data": {
      "text/plain": [
       "<matplotlib.image.AxesImage at 0x22ba38b4100>"
      ]
     },
     "execution_count": 5,
     "metadata": {},
     "output_type": "execute_result"
    },
    {
     "data": {
      "image/png": "[encoded data removed]",
      "text/plain": [
       "<Figure size 200x200 with 1 Axes>"
      ]
     },
     "metadata": {},
     "output_type": "display_data"
    }
   ],
   "source": [
    "# display the array using plt.imshow()\n",
    "plt.figure(figsize=(2, 2))\n",
    "plt.imshow(img_bicubic_orig, cmap='gray')"
   ]
  },
  {
   "cell_type": "code",
   "execution_count": 22,
   "id": "4ed867ea-48ff-487f-895a-70684957f215",
   "metadata": {},
   "outputs": [],
   "source": [
    "# define an upscale factor (e.g. 3x enlargement)\n",
    "scale_factor_bicubic = 3\n",
    "\n",
    "# compute the new dimensions\n",
    "new_width_bicubic = img_bicubic_orig.shape[1] * scale_factor_bicubic\n",
    "new_height_bicubic = img_bicubic_orig.shape[0] * scale_factor_bicubic"
   ]
  },
  {
   "cell_type": "code",
   "execution_count": 33,
   "id": "4c76ec20-3d16-4022-bb94-e969d02790f1",
   "metadata": {},
   "outputs": [],
   "source": [
    "# resize using bicubic interpolation\n",
    "resized_img_bicubic = cv2.resize(img_bicubic_orig, (new_width_bicubic, new_height_bicubic), interpolation=cv2.INTER_CUBIC)"
   ]
  },
  {
   "cell_type": "code",
   "execution_count": 34,
   "id": "58f442b5-00c7-4250-a97d-416f24bccd85",
   "metadata": {},
   "outputs": [
    {
     "data": {
      "text/plain": [
       "array([[ 83,  89, 105, 123, 139, 144],\n",
       "       [ 94, 100, 116, 134, 150, 156],\n",
       "       [126, 131, 147, 166, 181, 187],\n",
       "       [163, 169, 184, 203, 219, 224],\n",
       "       [194, 200, 216, 234, 250, 255],\n",
       "       [206, 211, 227, 245, 255, 255]], dtype=uint8)"
      ]
     },
     "execution_count": 34,
     "metadata": {},
     "output_type": "execute_result"
    }
   ],
   "source": [
    "resized_img_bicubic"
   ]
  },
  {
   "cell_type": "code",
   "execution_count": 10,
   "id": "12ca0a44-26df-4ab8-99ff-89a92dbc7f83",
   "metadata": {},
   "outputs": [
    {
     "data": {
      "text/plain": [
       "<matplotlib.image.AxesImage at 0x22ba5b16af0>"
      ]
     },
     "execution_count": 10,
     "metadata": {},
     "output_type": "execute_result"
    },
    {
     "data": {
      "image/png": "[encoded data removed]",
      "text/plain": [
       "<Figure size 200x200 with 1 Axes>"
      ]
     },
     "metadata": {},
     "output_type": "display_data"
    }
   ],
   "source": [
    "plt.figure(figsize=(2, 2))\n",
    "plt.imshow(resized_img_bicubic, cmap='gray')"
   ]
  },
  {
   "cell_type": "code",
   "execution_count": null,
   "id": "113db05c-75fa-4a32-a261-29081a6a0176",
   "metadata": {},
   "outputs": [],
   "source": []
  }
 ],
 "metadata": {
  "kernelspec": {
   "display_name": "Python 3 (ipykernel)",
   "language": "python",
   "name": "python3"
  },
  "language_info": {
   "codemirror_mode": {
    "name": "ipython",
    "version": 3
   },
   "file_extension": ".py",
   "mimetype": "text/x-python",
   "name": "python",
   "nbconvert_exporter": "python",
   "pygments_lexer": "ipython3",
   "version": "3.9.19"
  }
 },
 "nbformat": 4,
 "nbformat_minor": 5
}
