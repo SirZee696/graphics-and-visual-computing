{
 "cells": [
  {
   "cell_type": "markdown",
   "id": "d29d0c4b-7d35-4589-a0da-c7bffb64f6a9",
   "metadata": {},
   "source": [
    "# Drawing Shapes"
   ]
  },
  {
   "cell_type": "markdown",
   "id": "bc673299-5ff7-49f6-90f6-e07bf33bf9c0",
   "metadata": {},
   "source": [
    "drawing shapes using pillow"
   ]
  },
  {
   "cell_type": "code",
   "execution_count": 4,
   "id": "83dd76bc-625e-4961-a28b-9a91f85e771f",
   "metadata": {},
   "outputs": [],
   "source": [
    "# Import needed libraries\n",
    "from PIL import Image, ImageDraw"
   ]
  },
  {
   "cell_type": "markdown",
   "id": "9b28bd81-9080-41b9-acbe-d3bc6a870145",
   "metadata": {},
   "source": [
    "checking root directory"
   ]
  },
  {
   "cell_type": "code",
   "execution_count": 6,
   "id": "7855164d-83fb-47c5-bfb8-b627ebc25fc1",
   "metadata": {},
   "outputs": [
    {
     "data": {
      "text/plain": [
       "'C:\\\\Users\\\\Ezekiel\\\\Documents\\\\BACUNGAN_GVC'"
      ]
     },
     "execution_count": 6,
     "metadata": {},
     "output_type": "execute_result"
    }
   ],
   "source": [
    "pwd"
   ]
  },
  {
   "cell_type": "code",
   "execution_count": 7,
   "id": "d2925a0d-197a-4673-b65b-95a2fd4d5dd2",
   "metadata": {},
   "outputs": [],
   "source": [
    "# Create a white canvas\n",
    "img = Image.new(\"RGB\", (400, 400), \"white\")\n",
    "draw = ImageDraw.Draw(img)\n",
    "\n",
    "# Draw grid\n",
    "for i in range(0, 401, 40):\n",
    "    draw.line([(i, 0), (i, 400)], fill=\"lightgray\")\n",
    "    draw.line([(0, i), (400, i)], fill=\"lightgray\")\n",
    "\n",
    "# Draw shapes\n",
    "draw.rectangle([50, 50, 150, 150], outline=\"black\", fill=\"red\")\n",
    "draw.ellipse([200, 50, 300, 150], outline=\"black\", fill=\"green\")\n",
    "draw.polygon([(200, 200), (250, 300), (150, 300)], fill=\"blue\")\n",
    "\n",
    "# Add text\n",
    "draw.text((100, 160), \"Red Square\", fill=\"black\")\n",
    "\n",
    "# Display image\n",
    "img.show()\n",
    "# Save image\n",
    "img.save(\"shapes1.jpg\")"
   ]
  },
  {
   "cell_type": "markdown",
   "id": "2ab0e16a-86a5-491c-acab-46ec8a915599",
   "metadata": {},
   "source": [
    "drawing shapes using matplotlib"
   ]
  },
  {
   "cell_type": "markdown",
   "id": "a84aa6d2-a742-46ea-8ddc-a56cfd5c541d",
   "metadata": {},
   "source": [
    "install matplotlib (uncomment line below to install matplo)"
   ]
  },
  {
   "cell_type": "code",
   "execution_count": 8,
   "id": "8ce3075a-6379-40ad-9910-10da3a7e7011",
   "metadata": {},
   "outputs": [],
   "source": [
    "# pip install matplotlib"
   ]
  },
  {
   "cell_type": "code",
   "execution_count": 18,
   "id": "f18a7ca8-c47b-422e-a2d2-086f401cc10f",
   "metadata": {},
   "outputs": [
    {
     "data": {
      "image/png": "[encoded data removed]",
      "text/plain": [
       "<Figure size 640x480 with 1 Axes>"
      ]
     },
     "metadata": {},
     "output_type": "display_data"
    }
   ],
   "source": [
    "# Import modules pyplot and patches from matplotlib\n",
    "import matplotlib.pyplot as plt\n",
    "import matplotlib.patches as patches\n",
    "\n",
    "# Creatign a supblot\n",
    "fig, ax = plt.subplots()\n",
    "\n",
    "# drawing the shapes\n",
    "triangle = patches.Polygon([[0.5, 0.7], [0.6, 0.9], [0.4, 0.9]], closed=True, facecolor='blue')\n",
    "rect = patches.Rectangle((0.1, 0.1), 0.2, 0.2, facecolor='red', edgecolor='black')\n",
    "circle = patches.Circle((0.7, 0.3), 0.15, facecolor='green', edgecolor='black')\n",
    "\n",
    "# adding the shapes to our fig on position ax via add_patch\n",
    "ax.add_patch(rect)\n",
    "ax.add_patch(circle)\n",
    "ax.add_patch(triangle)\n",
    "\n",
    "# configuring the plt.axis\n",
    "plt.axis('equal')\n",
    "plt.axis('off')\n",
    "\n",
    "# display the plot\n",
    "plt.show()"
   ]
  }
 ],
 "metadata": {
  "kernelspec": {
   "display_name": "Python 3 (ipykernel)",
   "language": "python",
   "name": "python3"
  },
  "language_info": {
   "codemirror_mode": {
    "name": "ipython",
    "version": 3
   },
   "file_extension": ".py",
   "mimetype": "text/x-python",
   "name": "python",
   "nbconvert_exporter": "python",
   "pygments_lexer": "ipython3",
   "version": "3.9.19"
  }
 },
 "nbformat": 4,
 "nbformat_minor": 5
}
