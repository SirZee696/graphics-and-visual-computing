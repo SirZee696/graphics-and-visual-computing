{
 "cells": [
  {
   "cell_type": "markdown",
   "id": "dbbff7fb",
   "metadata": {},
   "source": [
    "# Image Morphology"
   ]
  },
  {
   "cell_type": "markdown",
   "id": "feab2bec",
   "metadata": {},
   "source": [
    "Erosion"
   ]
  },
  {
   "cell_type": "code",
   "execution_count": 1,
   "id": "2b8d44e3",
   "metadata": {},
   "outputs": [],
   "source": [
    "# Importing libraries\n",
    "import os\n",
    "import cv2\n",
    "import numpy as np\n",
    "import matplotlib.pyplot as plt"
   ]
  },
  {
   "cell_type": "code",
   "execution_count": 2,
   "id": "bf762585",
   "metadata": {},
   "outputs": [],
   "source": [
    "# additional library for slider\n",
    "from ipywidgets import interact, IntSlider"
   ]
  },
  {
   "cell_type": "markdown",
   "id": "d335f172",
   "metadata": {},
   "source": [
    "check root directory"
   ]
  },
  {
   "cell_type": "code",
   "execution_count": 3,
   "id": "235ac9e2",
   "metadata": {},
   "outputs": [
    {
     "data": {
      "text/plain": [
       "'c:\\\\Users\\\\Ezekiel\\\\Documents\\\\GitHub\\\\graphics-and-visual-computing\\\\BACUNGAN_GVC'"
      ]
     },
     "execution_count": 3,
     "metadata": {},
     "output_type": "execute_result"
    }
   ],
   "source": [
    "pwd"
   ]
  },
  {
   "cell_type": "code",
   "execution_count": 5,
   "id": "17dd4f54",
   "metadata": {},
   "outputs": [
    {
     "name": "stdout",
     "output_type": "stream",
     "text": [
      "0 c:\\Users\\Ezekiel\\Documents\\GitHub\\graphics-and-visual-computing\\BACUNGAN_GVC\\blank_canvas_blue_rectangle.png\n",
      "1 c:\\Users\\Ezekiel\\Documents\\GitHub\\graphics-and-visual-computing\\BACUNGAN_GVC\\shapes1.jpg\n",
      "2 c:\\Users\\Ezekiel\\Documents\\GitHub\\graphics-and-visual-computing\\BACUNGAN_GVC\\resources\\blank_canvas_blue_rectangle.png\n",
      "3 c:\\Users\\Ezekiel\\Documents\\GitHub\\graphics-and-visual-computing\\BACUNGAN_GVC\\resources\\blank_canvas_blue_rectangle_resize.png\n",
      "4 c:\\Users\\Ezekiel\\Documents\\GitHub\\graphics-and-visual-computing\\BACUNGAN_GVC\\resources\\blank_canvas_blue_rectangle_revise.png\n",
      "5 c:\\Users\\Ezekiel\\Documents\\GitHub\\graphics-and-visual-computing\\BACUNGAN_GVC\\resources\\blank_canvas_violet_rectangle.png\n",
      "6 c:\\Users\\Ezekiel\\Documents\\GitHub\\graphics-and-visual-computing\\BACUNGAN_GVC\\resources\\cameraman.jpg\n",
      "7 c:\\Users\\Ezekiel\\Documents\\GitHub\\graphics-and-visual-computing\\BACUNGAN_GVC\\resources\\erod-2.jpg\n",
      "8 c:\\Users\\Ezekiel\\Documents\\GitHub\\graphics-and-visual-computing\\BACUNGAN_GVC\\resources\\forest1.jpg\n",
      "9 c:\\Users\\Ezekiel\\Documents\\GitHub\\graphics-and-visual-computing\\BACUNGAN_GVC\\resources\\forest2.jpg\n",
      "10 c:\\Users\\Ezekiel\\Documents\\GitHub\\graphics-and-visual-computing\\BACUNGAN_GVC\\resources\\lotion_gray.jpg\n",
      "11 c:\\Users\\Ezekiel\\Documents\\GitHub\\graphics-and-visual-computing\\BACUNGAN_GVC\\resources\\shapes1.jpg\n",
      "12 c:\\Users\\Ezekiel\\Documents\\GitHub\\graphics-and-visual-computing\\BACUNGAN_GVC\\resources\\splash_gray.jpg\n",
      "13 c:\\Users\\Ezekiel\\Documents\\GitHub\\graphics-and-visual-computing\\BACUNGAN_GVC\\resources\\squirel.jpg\n"
     ]
    }
   ],
   "source": [
    "# creating a file list\n",
    "file_list = []\n",
    "\n",
    "# traversing the root directory\n",
    "for (root, dirs, files) in os.walk(os.getcwd()):\n",
    "    for f in files:\n",
    "        if f.endswith(('jpg', 'jpeg', 'png')): # get all image files\n",
    "            file_list.append(os.path.join(root, f))\n",
    "\n",
    "# display all the image files with index number\n",
    "counter = 0;\n",
    "for file in file_list:\n",
    "    print(counter,file)\n",
    "    counter = counter + 1;"
   ]
  },
  {
   "cell_type": "code",
   "execution_count": 14,
   "id": "2aabbdbf",
   "metadata": {},
   "outputs": [
    {
     "data": {
      "image/png": "[encoded data removed]",
      "text/plain": [
       "<Figure size 640x480 with 1 Axes>"
      ]
     },
     "metadata": {},
     "output_type": "display_data"
    }
   ],
   "source": [
    "# Create a binary image with a white rectangle\n",
    "image = np.zeros((5, 5), dtype=np.uint8)\n",
    "image[1:4, 1:4] = 255  # White square\n",
    "\n",
    "# Display original image\n",
    "plt.imshow(image, cmap='gray')\n",
    "plt.title(\"Original Image\")\n",
    "plt.show()"
   ]
  },
  {
   "cell_type": "code",
   "execution_count": 15,
   "id": "9fe5cee9",
   "metadata": {},
   "outputs": [
    {
     "data": {
      "text/plain": [
       "array([[  0,   0,   0,   0,   0],\n",
       "       [  0, 255, 255, 255,   0],\n",
       "       [  0, 255, 255, 255,   0],\n",
       "       [  0, 255, 255, 255,   0],\n",
       "       [  0,   0,   0,   0,   0]], dtype=uint8)"
      ]
     },
     "execution_count": 15,
     "metadata": {},
     "output_type": "execute_result"
    }
   ],
   "source": [
    "image"
   ]
  },
  {
   "cell_type": "code",
   "execution_count": 16,
   "id": "6a698548",
   "metadata": {},
   "outputs": [],
   "source": [
    "# Defining a structuring element\n",
    "kernel = np.ones((3,3), np.uint8)  # Structuring element (3×3 square)"
   ]
  },
  {
   "cell_type": "code",
   "execution_count": 17,
   "id": "ac545bfc",
   "metadata": {},
   "outputs": [
    {
     "data": {
      "text/plain": [
       "array([[1, 1, 1],\n",
       "       [1, 1, 1],\n",
       "       [1, 1, 1]], dtype=uint8)"
      ]
     },
     "execution_count": 17,
     "metadata": {},
     "output_type": "execute_result"
    }
   ],
   "source": [
    "kernel"
   ]
  },
  {
   "cell_type": "code",
   "execution_count": 18,
   "id": "0b09a318",
   "metadata": {},
   "outputs": [
    {
     "data": {
      "image/png": "[encoded data removed]",
      "text/plain": [
       "<Figure size 640x480 with 1 Axes>"
      ]
     },
     "metadata": {},
     "output_type": "display_data"
    }
   ],
   "source": [
    "# Apply erosion\n",
    "eroded_image = cv2.erode(image, kernel, iterations=1)\n",
    "\n",
    "# Display eroded image\n",
    "plt.imshow(eroded_image, cmap='gray')\n",
    "plt.title(\"Eroded Image\")\n",
    "plt.show()"
   ]
  },
  {
   "cell_type": "code",
   "execution_count": 19,
   "id": "1aff7fd9",
   "metadata": {},
   "outputs": [
    {
     "data": {
      "text/plain": [
       "array([[  0,   0,   0,   0,   0],\n",
       "       [  0,   0,   0,   0,   0],\n",
       "       [  0,   0, 255,   0,   0],\n",
       "       [  0,   0,   0,   0,   0],\n",
       "       [  0,   0,   0,   0,   0]], dtype=uint8)"
      ]
     },
     "execution_count": 19,
     "metadata": {},
     "output_type": "execute_result"
    }
   ],
   "source": [
    "eroded_image"
   ]
  },
  {
   "cell_type": "markdown",
   "id": "f0e12837",
   "metadata": {},
   "source": []
  }
 ],
 "metadata": {
  "kernelspec": {
   "display_name": "graphics-viscual-computing",
   "language": "python",
   "name": "python3"
  },
  "language_info": {
   "codemirror_mode": {
    "name": "ipython",
    "version": 3
   },
   "file_extension": ".py",
   "mimetype": "text/x-python",
   "name": "python",
   "nbconvert_exporter": "python",
   "pygments_lexer": "ipython3",
   "version": "3.9.19"
  }
 },
 "nbformat": 4,
 "nbformat_minor": 5
}
