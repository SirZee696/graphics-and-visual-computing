{
 "cells": [
  {
   "cell_type": "markdown",
   "id": "9bf88f83-530f-4d4d-918f-5ecc4827746b",
   "metadata": {
    "jp-MarkdownHeadingCollapsed": true
   },
   "source": [
    "Name: Bacungan, Ezekiel O.\n",
    "<br>Section: 2Z\n",
    "<br> Module 2: Programming Concepts in Graphics and Visual Computing in Python \n",
    "<br> Lesson 1: Basic Graphics in Python\n",
    "\n",
    "<b>Exercise:</b>\n",
    "1. Try Makng a flag using the rectangles, trangles and circle."
   ]
  },
  {
   "cell_type": "code",
   "execution_count": 1,
   "id": "1cbecda3-101c-413c-b7dc-656e463bb88f",
   "metadata": {},
   "outputs": [],
   "source": [
    "# import libraries\n",
    "from PIL import Image, ImageDraw\n",
    "\n",
    "# Creating a white canvas\n",
    "img = Image.new(\"RGB\", (300, 200), \"white\")\n",
    "draw = ImageDraw.Draw(img)\n",
    "\n",
    "# drawing the shape\n",
    "draw.ellipse([100, 45, 200, 155], outline=\"red\", fill=\"red\")\n",
    "\n",
    "# displaying the final output\n",
    "img.show()\n",
    "\n",
    "# saving the output\n",
    "img.save(\"bacungan_japan_flag.jpg\")"
   ]
  }
 ],
 "metadata": {
  "kernelspec": {
   "display_name": "Python 3 (ipykernel)",
   "language": "python",
   "name": "python3"
  },
  "language_info": {
   "codemirror_mode": {
    "name": "ipython",
    "version": 3
   },
   "file_extension": ".py",
   "mimetype": "text/x-python",
   "name": "python",
   "nbconvert_exporter": "python",
   "pygments_lexer": "ipython3",
   "version": "3.9.19"
  }
 },
 "nbformat": 4,
 "nbformat_minor": 5
}
