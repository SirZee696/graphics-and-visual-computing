{
 "cells": [
  {
   "cell_type": "code",
   "execution_count": 1,
   "id": "d17252aa-c105-46cf-8a4b-6337bace4a81",
   "metadata": {},
   "outputs": [
    {
     "name": "stdout",
     "output_type": "stream",
     "text": [
      "Requirement already satisfied: pillow in c:\\users\\ezekiel\\anaconda3\\envs\\graphics-viscual-computing\\lib\\site-packages (10.4.0)\n",
      "Note: you may need to restart the kernel to use updated packages.\n"
     ]
    }
   ],
   "source": [
    "pip install pillow"
   ]
  },
  {
   "cell_type": "code",
   "execution_count": 2,
   "id": "e401c2e6-a0bd-4a2a-9bc3-a95d9022821f",
   "metadata": {},
   "outputs": [],
   "source": [
    "from PIL import Image, ImageDraw\n",
    "\n",
    "width, height = 20, 20;\n",
    "canvas = Image.new(\"RGB\", (width, height), color=\"white\");\n",
    "draw = ImageDraw.Draw(canvas)\n",
    "draw.rectangle([(2, 2), (15, 15)], fill=\"blue\", outline=\"black\");\n",
    "canvas.save(\"blue_canvas.png\")\n",
    "# canvas.show()"
   ]
  },
  {
   "cell_type": "code",
   "execution_count": 35,
   "id": "faf248fc-9481-49e3-b6c4-281465998e49",
   "metadata": {},
   "outputs": [],
   "source": [
    "x, y = 3, 3;\n",
    "pixel_value = canvas.getpixel((x, y))\n",
    "print(f\"Pixel at ({x}, {y}): {pixel_value}\")"
   ]
  },
  {
   "cell_type": "code",
   "execution_count": 43,
   "id": "e3466197-7c6f-4269-9909-b20fe33137cd",
   "metadata": {},
   "outputs": [
    {
     "name": "stdout",
     "output_type": "stream",
     "text": [
      "Pixel at (0, 0): (0, 0, 0)\n"
     ]
    }
   ],
   "source": [
    "x, y = 0, 0;\n",
    "pixel_value = canvas.getpixel((x, y));\n",
    "print(f\"Pixel at ({x}, {y}): {pixel_value}\")"
   ]
  },
  {
   "cell_type": "code",
   "execution_count": 44,
   "id": "5d10f355-e428-4c06-b043-aa807b6158f4",
   "metadata": {},
   "outputs": [
    {
     "name": "stdout",
     "output_type": "stream",
     "text": [
      "Pixel at (18, 18): (255, 255, 255)\n"
     ]
    }
   ],
   "source": [
    "x, y = 18, 18;\n",
    "pixel_value = canvas.getpixel((x, y));\n",
    "print(f\"Pixel at ({x}, {y}): {pixel_value}\")"
   ]
  },
  {
   "cell_type": "code",
   "execution_count": 45,
   "id": "8d73a725-34a7-4feb-8f5e-4cdad957d4aa",
   "metadata": {},
   "outputs": [
    {
     "name": "stdout",
     "output_type": "stream",
     "text": [
      "Requirement already satisfied: numpy in c:\\users\\ezekiel\\anaconda3\\envs\\graphics-viscual-computing\\lib\\site-packages (2.0.1)\n",
      "Note: you may need to restart the kernel to use updated packages.\n"
     ]
    }
   ],
   "source": [
    "pip install numpy"
   ]
  },
  {
   "cell_type": "code",
   "execution_count": 47,
   "id": "824c9e29-eba3-4b98-b808-6eac59089679",
   "metadata": {},
   "outputs": [],
   "source": [
    "import numpy as np"
   ]
  },
  {
   "cell_type": "code",
   "execution_count": 48,
   "id": "934df218-2454-4693-a7b8-53ebc89d2f4d",
   "metadata": {},
   "outputs": [],
   "source": [
    "pixel_matrix = np.array(canvas)"
   ]
  },
  {
   "cell_type": "code",
   "execution_count": 51,
   "id": "6007a164-70ed-4d51-9257-dec6f17cefe5",
   "metadata": {
    "scrolled": true
   },
   "outputs": [],
   "source": [
    "for row in pixel_matrix:\n",
    "    print(row)"
   ]
  },
  {
   "cell_type": "code",
   "execution_count": 2,
   "id": "cd5a3c61-04b4-45b9-bcb9-5b91bd146d84",
   "metadata": {},
   "outputs": [],
   "source": [
    "# Drawing Basic Shapes in Python\n",
    "\n",
    "## Objectives:\n",
    "# - Practice drawing geometric shapes\n",
    "# - Understand coordinate systems and colors\n",
    "\n",
    "## Part A: Using Pillow\n",
    "\n",
    "# ```python\n",
    "from PIL import Image, ImageDraw\n",
    "\n",
    "# Create a white canvas\n",
    "img = Image.new(\"RGB\", (400, 400), \"white\")\n",
    "draw = ImageDraw.Draw(img)\n",
    "\n",
    "# Draw grid\n",
    "for i in range(0, 401, 40):\n",
    "    draw.line([(i, 0), (i, 400)], fill=\"lightgray\")\n",
    "    draw.line([(0, i), (400, i)], fill=\"lightgray\")\n",
    "\n",
    "# Draw shapes\n",
    "draw.rectangle([50, 50, 150, 150], outline=\"black\", fill=\"red\")\n",
    "draw.ellipse([200, 50, 300, 150], outline=\"black\", fill=\"green\")\n",
    "draw.polygon([(200, 200), (250, 300), (150, 300)], fill=\"blue\")\n",
    "\n",
    "# Add text\n",
    "draw.text((100, 160), \"Red Square\", fill=\"black\")\n",
    "\n",
    "img.show()\n",
    "img.save(\"shapes1.jpg\")"
   ]
  },
  {
   "cell_type": "code",
   "execution_count": 5,
   "id": "da0a4357-ff28-4e7d-a534-f2fad0847383",
   "metadata": {},
   "outputs": [
    {
     "data": {
      "text/plain": [
       "'C:\\\\Users\\\\Ezekiel\\\\Documents\\\\SY-2024-2025-1st-Sem\\\\graphics-visual-computing\\\\image-processing-env\\\\test-jupyter'"
      ]
     },
     "execution_count": 5,
     "metadata": {},
     "output_type": "execute_result"
    }
   ],
   "source": [
    "pwd"
   ]
  },
  {
   "cell_type": "code",
   "execution_count": 3,
   "id": "bf19837d-d1dd-460f-8f29-4522883efe30",
   "metadata": {},
   "outputs": [
    {
     "name": "stdout",
     "output_type": "stream",
     "text": [
      "Requirement already satisfied: matplotlib in c:\\users\\ezekiel\\anaconda3\\envs\\graphics-viscual-computing\\lib\\site-packages (3.9.1)\n",
      "Requirement already satisfied: contourpy>=1.0.1 in c:\\users\\ezekiel\\anaconda3\\envs\\graphics-viscual-computing\\lib\\site-packages (from matplotlib) (1.2.1)\n",
      "Requirement already satisfied: cycler>=0.10 in c:\\users\\ezekiel\\anaconda3\\envs\\graphics-viscual-computing\\lib\\site-packages (from matplotlib) (0.12.1)\n",
      "Requirement already satisfied: fonttools>=4.22.0 in c:\\users\\ezekiel\\anaconda3\\envs\\graphics-viscual-computing\\lib\\site-packages (from matplotlib) (4.53.1)\n",
      "Requirement already satisfied: kiwisolver>=1.3.1 in c:\\users\\ezekiel\\anaconda3\\envs\\graphics-viscual-computing\\lib\\site-packages (from matplotlib) (1.4.5)\n",
      "Requirement already satisfied: numpy>=1.23 in c:\\users\\ezekiel\\anaconda3\\envs\\graphics-viscual-computing\\lib\\site-packages (from matplotlib) (2.0.1)\n",
      "Requirement already satisfied: packaging>=20.0 in c:\\users\\ezekiel\\anaconda3\\envs\\graphics-viscual-computing\\lib\\site-packages (from matplotlib) (24.1)\n",
      "Requirement already satisfied: pillow>=8 in c:\\users\\ezekiel\\anaconda3\\envs\\graphics-viscual-computing\\lib\\site-packages (from matplotlib) (10.4.0)\n",
      "Requirement already satisfied: pyparsing>=2.3.1 in c:\\users\\ezekiel\\anaconda3\\envs\\graphics-viscual-computing\\lib\\site-packages (from matplotlib) (3.1.2)\n",
      "Requirement already satisfied: python-dateutil>=2.7 in c:\\users\\ezekiel\\anaconda3\\envs\\graphics-viscual-computing\\lib\\site-packages (from matplotlib) (2.9.0.post0)\n",
      "Requirement already satisfied: importlib-resources>=3.2.0 in c:\\users\\ezekiel\\anaconda3\\envs\\graphics-viscual-computing\\lib\\site-packages (from matplotlib) (6.4.0)\n",
      "Requirement already satisfied: zipp>=3.1.0 in c:\\users\\ezekiel\\anaconda3\\envs\\graphics-viscual-computing\\lib\\site-packages (from importlib-resources>=3.2.0->matplotlib) (3.17.0)\n",
      "Requirement already satisfied: six>=1.5 in c:\\users\\ezekiel\\anaconda3\\envs\\graphics-viscual-computing\\lib\\site-packages (from python-dateutil>=2.7->matplotlib) (1.16.0)\n",
      "Note: you may need to restart the kernel to use updated packages.\n"
     ]
    }
   ],
   "source": [
    "pip install matplotlib"
   ]
  },
  {
   "cell_type": "code",
   "execution_count": 4,
   "id": "21474028-d6c5-4f3e-8e44-f28d7fde75a9",
   "metadata": {},
   "outputs": [
    {
     "data": {
      "image/png": "[encoded data removed]",
      "text/plain": [
       "<Figure size 640x480 with 1 Axes>"
      ]
     },
     "metadata": {},
     "output_type": "display_data"
    }
   ],
   "source": [
    "import matplotlib.pyplot as plt\n",
    "import matplotlib.patches as patches\n",
    "\n",
    "fig, ax = plt.subplots()\n",
    "\n",
    "# Rectangle\n",
    "rect = patches.Rectangle((0.1, 0.1), 0.3, 0.3, facecolor='red', edgecolor='black')\n",
    "circle = patches.Circle((0.7, 0.3), 0.15, facecolor='green', edgecolor='black')\n",
    "triangle = patches.Polygon([[0.5, 0.7], [0.6, 0.9], [0.4, 0.9]], closed=True, facecolor='blue')\n",
    "\n",
    "ax.add_patch(rect)\n",
    "ax.add_patch(circle)\n",
    "ax.add_patch(triangle)\n",
    "\n",
    "plt.axis('equal')\n",
    "plt.axis('off')\n",
    "plt.show()"
   ]
  },
  {
   "cell_type": "code",
   "execution_count": null,
   "id": "ceb4dc48-b7dd-4bc2-8558-36bbd8245d37",
   "metadata": {},
   "outputs": [],
   "source": []
  }
 ],
 "metadata": {
  "kernelspec": {
   "display_name": "Python 3 (ipykernel)",
   "language": "python",
   "name": "python3"
  },
  "language_info": {
   "codemirror_mode": {
    "name": "ipython",
    "version": 3
   },
   "file_extension": ".py",
   "mimetype": "text/x-python",
   "name": "python",
   "nbconvert_exporter": "python",
   "pygments_lexer": "ipython3",
   "version": "3.9.19"
  }
 },
 "nbformat": 4,
 "nbformat_minor": 5
}
