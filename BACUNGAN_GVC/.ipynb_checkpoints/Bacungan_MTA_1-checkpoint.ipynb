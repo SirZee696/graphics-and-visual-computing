{
 "cells": [
  {
   "cell_type": "markdown",
   "id": "c1468854-3287-4bf3-b8d3-b392f22b31e0",
   "metadata": {},
   "source": [
    "### Code Sample 1: Creating a canvas and getting the pixel value"
   ]
  },
  {
   "cell_type": "code",
   "execution_count": 7,
   "id": "b876ad12-ba46-48a3-a9f8-3573f08a5c0f",
   "metadata": {},
   "outputs": [
    {
     "name": "stdout",
     "output_type": "stream",
     "text": [
      "Requirement already satisfied: opencv-python in c:\\users\\ezekiel\\anaconda3\\envs\\graphics-viscual-computing\\lib\\site-packages (4.10.0.84)\n",
      "Requirement already satisfied: numpy>=1.17.0 in c:\\users\\ezekiel\\anaconda3\\envs\\graphics-viscual-computing\\lib\\site-packages (from opencv-python) (2.0.1)\n",
      "Note: you may need to restart the kernel to use updated packages.\n"
     ]
    }
   ],
   "source": [
    "# pip install opencv-python"
   ]
  },
  {
   "cell_type": "code",
   "execution_count": 6,
   "id": "bf68a1e1-1bf5-4c1a-a15f-9410961b7f2f",
   "metadata": {},
   "outputs": [],
   "source": [
    "# pip install matplotlib"
   ]
  },
  {
   "cell_type": "code",
   "execution_count": 1,
   "id": "32f7fa9b-4e1f-4ff6-a95f-e7e2ffd003b9",
   "metadata": {},
   "outputs": [],
   "source": [
    "# import matplotlib.pyplot as plt\n",
    "import numpy as np\n",
    "import cv2 as cv2\n",
    "import os"
   ]
  },
  {
   "cell_type": "code",
   "execution_count": 4,
   "id": "02e8e141-1d8d-4429-abd9-31140b41f431",
   "metadata": {},
   "outputs": [],
   "source": [
    "# Installing Python Image Library\n",
    "# pip install pillow"
   ]
  },
  {
   "cell_type": "code",
   "execution_count": 2,
   "id": "308533da-811c-4003-874f-31bda3b159a4",
   "metadata": {},
   "outputs": [],
   "source": [
    "# Importing Modules from PIL\n",
    "from PIL import Image, ImageDraw\n",
    "\n",
    "width, height = 20, 20\n",
    "\n",
    "canvas = Image.new(\"RGB\", (width, height), color=\"white\")\n",
    "\n",
    "draw = ImageDraw.Draw(canvas)\n",
    "\n",
    "draw.rectangle([(2, 2), (15, 15)], fill=\"violet\", outline=\"black\");\n",
    "# draw.rectangle([(2, 2), (15, 15)], fill=\"violet\", outline=\"black\");\n",
    "\n",
    "canvas.save(\"blank_canvas_blue_rectangle.png\")\n",
    "# canvas.save(\"blank_canvas_violet_rectangle.png\")\n",
    "\n",
    "# canvas.show()"
   ]
  },
  {
   "cell_type": "code",
   "execution_count": 6,
   "id": "27f61e65-5962-4bc4-bd0f-e2a9bf4b685c",
   "metadata": {},
   "outputs": [],
   "source": [
    "# draw.rectangle??"
   ]
  },
  {
   "cell_type": "code",
   "execution_count": 3,
   "id": "15d95dcd-8056-43aa-a7c9-63d63aaffb31",
   "metadata": {},
   "outputs": [
    {
     "name": "stdout",
     "output_type": "stream",
     "text": [
      "Pixel at (3, 3: (238, 130, 238))\n"
     ]
    }
   ],
   "source": [
    "x, y = 3, 3\n",
    "pixel_value = canvas.getpixel((x,y))\n",
    "\n",
    "print(f\"Pixel at ({x}, {y}: {pixel_value})\")"
   ]
  },
  {
   "cell_type": "code",
   "execution_count": 5,
   "id": "6fde5299-ac99-401d-98fc-7337a2066fa3",
   "metadata": {},
   "outputs": [
    {
     "name": "stdout",
     "output_type": "stream",
     "text": [
      "Requirement already satisfied: numpy in c:\\users\\ezekiel\\anaconda3\\envs\\graphics-viscual-computing\\lib\\site-packages (2.0.1)Note: you may need to restart the kernel to use updated packages.\n",
      "\n"
     ]
    }
   ],
   "source": [
    "# pip install numpy"
   ]
  },
  {
   "cell_type": "code",
   "execution_count": 10,
   "id": "a36ad5d4-5d4b-471a-a4f4-e6c74a9538de",
   "metadata": {},
   "outputs": [
    {
     "name": "stdout",
     "output_type": "stream",
     "text": [
      "[[255 255 255]\n",
      " [255 255 255]\n",
      " [255 255 255]\n",
      " [255 255 255]\n",
      " [255 255 255]\n",
      " [255 255 255]\n",
      " [255 255 255]\n",
      " [255 255 255]\n",
      " [255 255 255]\n",
      " [255 255 255]\n",
      " [255 255 255]\n",
      " [255 255 255]\n",
      " [255 255 255]\n",
      " [255 255 255]\n",
      " [255 255 255]\n",
      " [255 255 255]\n",
      " [255 255 255]\n",
      " [255 255 255]\n",
      " [255 255 255]\n",
      " [255 255 255]]\n",
      "[[255 255 255]\n",
      " [255 255 255]\n",
      " [255 255 255]\n",
      " [255 255 255]\n",
      " [255 255 255]\n",
      " [255 255 255]\n",
      " [255 255 255]\n",
      " [255 255 255]\n",
      " [255 255 255]\n",
      " [255 255 255]\n",
      " [255 255 255]\n",
      " [255 255 255]\n",
      " [255 255 255]\n",
      " [255 255 255]\n",
      " [255 255 255]\n",
      " [255 255 255]\n",
      " [255 255 255]\n",
      " [255 255 255]\n",
      " [255 255 255]\n",
      " [255 255 255]]\n",
      "[[255 255 255]\n",
      " [255 255 255]\n",
      " [  0   0   0]\n",
      " [  0   0   0]\n",
      " [  0   0   0]\n",
      " [  0   0   0]\n",
      " [  0   0   0]\n",
      " [  0   0   0]\n",
      " [  0   0   0]\n",
      " [  0   0   0]\n",
      " [  0   0   0]\n",
      " [  0   0   0]\n",
      " [  0   0   0]\n",
      " [  0   0   0]\n",
      " [  0   0   0]\n",
      " [  0   0   0]\n",
      " [255 255 255]\n",
      " [255 255 255]\n",
      " [255 255 255]\n",
      " [255 255 255]]\n",
      "[[255 255 255]\n",
      " [255 255 255]\n",
      " [  0   0   0]\n",
      " [238 130 238]\n",
      " [238 130 238]\n",
      " [238 130 238]\n",
      " [238 130 238]\n",
      " [238 130 238]\n",
      " [238 130 238]\n",
      " [238 130 238]\n",
      " [238 130 238]\n",
      " [238 130 238]\n",
      " [238 130 238]\n",
      " [238 130 238]\n",
      " [238 130 238]\n",
      " [  0   0   0]\n",
      " [255 255 255]\n",
      " [255 255 255]\n",
      " [255 255 255]\n",
      " [255 255 255]]\n",
      "[[255 255 255]\n",
      " [255 255 255]\n",
      " [  0   0   0]\n",
      " [238 130 238]\n",
      " [238 130 238]\n",
      " [238 130 238]\n",
      " [238 130 238]\n",
      " [238 130 238]\n",
      " [238 130 238]\n",
      " [238 130 238]\n",
      " [238 130 238]\n",
      " [238 130 238]\n",
      " [238 130 238]\n",
      " [238 130 238]\n",
      " [238 130 238]\n",
      " [  0   0   0]\n",
      " [255 255 255]\n",
      " [255 255 255]\n",
      " [255 255 255]\n",
      " [255 255 255]]\n",
      "[[255 255 255]\n",
      " [255 255 255]\n",
      " [  0   0   0]\n",
      " [238 130 238]\n",
      " [238 130 238]\n",
      " [238 130 238]\n",
      " [238 130 238]\n",
      " [238 130 238]\n",
      " [238 130 238]\n",
      " [238 130 238]\n",
      " [238 130 238]\n",
      " [238 130 238]\n",
      " [238 130 238]\n",
      " [238 130 238]\n",
      " [238 130 238]\n",
      " [  0   0   0]\n",
      " [255 255 255]\n",
      " [255 255 255]\n",
      " [255 255 255]\n",
      " [255 255 255]]\n",
      "[[255 255 255]\n",
      " [255 255 255]\n",
      " [  0   0   0]\n",
      " [238 130 238]\n",
      " [238 130 238]\n",
      " [238 130 238]\n",
      " [238 130 238]\n",
      " [238 130 238]\n",
      " [238 130 238]\n",
      " [238 130 238]\n",
      " [238 130 238]\n",
      " [238 130 238]\n",
      " [238 130 238]\n",
      " [238 130 238]\n",
      " [238 130 238]\n",
      " [  0   0   0]\n",
      " [255 255 255]\n",
      " [255 255 255]\n",
      " [255 255 255]\n",
      " [255 255 255]]\n",
      "[[255 255 255]\n",
      " [255 255 255]\n",
      " [  0   0   0]\n",
      " [238 130 238]\n",
      " [238 130 238]\n",
      " [238 130 238]\n",
      " [238 130 238]\n",
      " [238 130 238]\n",
      " [238 130 238]\n",
      " [238 130 238]\n",
      " [238 130 238]\n",
      " [238 130 238]\n",
      " [238 130 238]\n",
      " [238 130 238]\n",
      " [238 130 238]\n",
      " [  0   0   0]\n",
      " [255 255 255]\n",
      " [255 255 255]\n",
      " [255 255 255]\n",
      " [255 255 255]]\n",
      "[[255 255 255]\n",
      " [255 255 255]\n",
      " [  0   0   0]\n",
      " [238 130 238]\n",
      " [238 130 238]\n",
      " [238 130 238]\n",
      " [238 130 238]\n",
      " [238 130 238]\n",
      " [238 130 238]\n",
      " [238 130 238]\n",
      " [238 130 238]\n",
      " [238 130 238]\n",
      " [238 130 238]\n",
      " [238 130 238]\n",
      " [238 130 238]\n",
      " [  0   0   0]\n",
      " [255 255 255]\n",
      " [255 255 255]\n",
      " [255 255 255]\n",
      " [255 255 255]]\n",
      "[[255 255 255]\n",
      " [255 255 255]\n",
      " [  0   0   0]\n",
      " [238 130 238]\n",
      " [238 130 238]\n",
      " [238 130 238]\n",
      " [238 130 238]\n",
      " [238 130 238]\n",
      " [238 130 238]\n",
      " [238 130 238]\n",
      " [238 130 238]\n",
      " [238 130 238]\n",
      " [238 130 238]\n",
      " [238 130 238]\n",
      " [238 130 238]\n",
      " [  0   0   0]\n",
      " [255 255 255]\n",
      " [255 255 255]\n",
      " [255 255 255]\n",
      " [255 255 255]]\n",
      "[[255 255 255]\n",
      " [255 255 255]\n",
      " [  0   0   0]\n",
      " [238 130 238]\n",
      " [238 130 238]\n",
      " [238 130 238]\n",
      " [238 130 238]\n",
      " [238 130 238]\n",
      " [238 130 238]\n",
      " [238 130 238]\n",
      " [238 130 238]\n",
      " [238 130 238]\n",
      " [238 130 238]\n",
      " [238 130 238]\n",
      " [238 130 238]\n",
      " [  0   0   0]\n",
      " [255 255 255]\n",
      " [255 255 255]\n",
      " [255 255 255]\n",
      " [255 255 255]]\n",
      "[[255 255 255]\n",
      " [255 255 255]\n",
      " [  0   0   0]\n",
      " [238 130 238]\n",
      " [238 130 238]\n",
      " [238 130 238]\n",
      " [238 130 238]\n",
      " [238 130 238]\n",
      " [238 130 238]\n",
      " [238 130 238]\n",
      " [238 130 238]\n",
      " [238 130 238]\n",
      " [238 130 238]\n",
      " [238 130 238]\n",
      " [238 130 238]\n",
      " [  0   0   0]\n",
      " [255 255 255]\n",
      " [255 255 255]\n",
      " [255 255 255]\n",
      " [255 255 255]]\n",
      "[[255 255 255]\n",
      " [255 255 255]\n",
      " [  0   0   0]\n",
      " [238 130 238]\n",
      " [238 130 238]\n",
      " [238 130 238]\n",
      " [238 130 238]\n",
      " [238 130 238]\n",
      " [238 130 238]\n",
      " [238 130 238]\n",
      " [238 130 238]\n",
      " [238 130 238]\n",
      " [238 130 238]\n",
      " [238 130 238]\n",
      " [238 130 238]\n",
      " [  0   0   0]\n",
      " [255 255 255]\n",
      " [255 255 255]\n",
      " [255 255 255]\n",
      " [255 255 255]]\n",
      "[[255 255 255]\n",
      " [255 255 255]\n",
      " [  0   0   0]\n",
      " [238 130 238]\n",
      " [238 130 238]\n",
      " [238 130 238]\n",
      " [238 130 238]\n",
      " [238 130 238]\n",
      " [238 130 238]\n",
      " [238 130 238]\n",
      " [238 130 238]\n",
      " [238 130 238]\n",
      " [238 130 238]\n",
      " [238 130 238]\n",
      " [238 130 238]\n",
      " [  0   0   0]\n",
      " [255 255 255]\n",
      " [255 255 255]\n",
      " [255 255 255]\n",
      " [255 255 255]]\n",
      "[[255 255 255]\n",
      " [255 255 255]\n",
      " [  0   0   0]\n",
      " [238 130 238]\n",
      " [238 130 238]\n",
      " [238 130 238]\n",
      " [238 130 238]\n",
      " [238 130 238]\n",
      " [238 130 238]\n",
      " [238 130 238]\n",
      " [238 130 238]\n",
      " [238 130 238]\n",
      " [238 130 238]\n",
      " [238 130 238]\n",
      " [238 130 238]\n",
      " [  0   0   0]\n",
      " [255 255 255]\n",
      " [255 255 255]\n",
      " [255 255 255]\n",
      " [255 255 255]]\n",
      "[[255 255 255]\n",
      " [255 255 255]\n",
      " [  0   0   0]\n",
      " [  0   0   0]\n",
      " [  0   0   0]\n",
      " [  0   0   0]\n",
      " [  0   0   0]\n",
      " [  0   0   0]\n",
      " [  0   0   0]\n",
      " [  0   0   0]\n",
      " [  0   0   0]\n",
      " [  0   0   0]\n",
      " [  0   0   0]\n",
      " [  0   0   0]\n",
      " [  0   0   0]\n",
      " [  0   0   0]\n",
      " [255 255 255]\n",
      " [255 255 255]\n",
      " [255 255 255]\n",
      " [255 255 255]]\n",
      "[[255 255 255]\n",
      " [255 255 255]\n",
      " [255 255 255]\n",
      " [255 255 255]\n",
      " [255 255 255]\n",
      " [255 255 255]\n",
      " [255 255 255]\n",
      " [255 255 255]\n",
      " [255 255 255]\n",
      " [255 255 255]\n",
      " [255 255 255]\n",
      " [255 255 255]\n",
      " [255 255 255]\n",
      " [255 255 255]\n",
      " [255 255 255]\n",
      " [255 255 255]\n",
      " [255 255 255]\n",
      " [255 255 255]\n",
      " [255 255 255]\n",
      " [255 255 255]]\n",
      "[[255 255 255]\n",
      " [255 255 255]\n",
      " [255 255 255]\n",
      " [255 255 255]\n",
      " [255 255 255]\n",
      " [255 255 255]\n",
      " [255 255 255]\n",
      " [255 255 255]\n",
      " [255 255 255]\n",
      " [255 255 255]\n",
      " [255 255 255]\n",
      " [255 255 255]\n",
      " [255 255 255]\n",
      " [255 255 255]\n",
      " [255 255 255]\n",
      " [255 255 255]\n",
      " [255 255 255]\n",
      " [255 255 255]\n",
      " [255 255 255]\n",
      " [255 255 255]]\n",
      "[[255 255 255]\n",
      " [255 255 255]\n",
      " [255 255 255]\n",
      " [255 255 255]\n",
      " [255 255 255]\n",
      " [255 255 255]\n",
      " [255 255 255]\n",
      " [255 255 255]\n",
      " [255 255 255]\n",
      " [255 255 255]\n",
      " [255 255 255]\n",
      " [255 255 255]\n",
      " [255 255 255]\n",
      " [255 255 255]\n",
      " [255 255 255]\n",
      " [255 255 255]\n",
      " [255 255 255]\n",
      " [255 255 255]\n",
      " [255 255 255]\n",
      " [255 255 255]]\n",
      "[[255 255 255]\n",
      " [255 255 255]\n",
      " [255 255 255]\n",
      " [255 255 255]\n",
      " [255 255 255]\n",
      " [255 255 255]\n",
      " [255 255 255]\n",
      " [255 255 255]\n",
      " [255 255 255]\n",
      " [255 255 255]\n",
      " [255 255 255]\n",
      " [255 255 255]\n",
      " [255 255 255]\n",
      " [255 255 255]\n",
      " [255 255 255]\n",
      " [255 255 255]\n",
      " [255 255 255]\n",
      " [255 255 255]\n",
      " [255 255 255]\n",
      " [255 255 255]]\n"
     ]
    }
   ],
   "source": [
    "import numpy as np\n",
    "\n",
    "pixel_matrix = np.array(canvas)\n",
    "\n",
    "for row in pixel_matrix:\n",
    "    print(row)"
   ]
  },
  {
   "cell_type": "code",
   "execution_count": 35,
   "id": "29d436db-5785-41df-a367-443c291815a2",
   "metadata": {},
   "outputs": [
    {
     "name": "stdout",
     "output_type": "stream",
     "text": [
      "[2. 2. 2. 2. 2.]\n",
      "[2. 2. 2. 2. 2.]\n",
      "[2. 2. 2. 2. 2.]\n",
      "[2. 2. 2. 2. 2.]\n",
      "[2. 2. 2. 2. 2.]\n"
     ]
    }
   ],
   "source": [
    "test_canvas = (5, 5)\n",
    "pixel_matrix_zeros = np.zeros(test_canvas)\n",
    "\n",
    "for row in pixel_matrix_zeros:\n",
    "    print(row+2)\n",
    "\n",
    "# pixel_matrix_zeros+=2"
   ]
  },
  {
   "cell_type": "code",
   "execution_count": 36,
   "id": "4ddc1687-f3e7-4a51-afda-e404716edeb8",
   "metadata": {},
   "outputs": [
    {
     "data": {
      "text/plain": [
       "array([[0., 0., 0., 0., 0.],\n",
       "       [0., 0., 0., 0., 0.],\n",
       "       [0., 0., 0., 0., 0.],\n",
       "       [0., 0., 0., 0., 0.],\n",
       "       [0., 0., 0., 0., 0.]])"
      ]
     },
     "execution_count": 36,
     "metadata": {},
     "output_type": "execute_result"
    }
   ],
   "source": [
    "pixel_matrix_zeros"
   ]
  },
  {
   "cell_type": "code",
   "execution_count": 38,
   "id": "fbe1203f-49c2-4073-ac06-c74230a1387a",
   "metadata": {},
   "outputs": [
    {
     "name": "stdout",
     "output_type": "stream",
     "text": [
      "[2. 2. 2. 2. 2.]\n",
      "[2. 2. 2. 2. 2.]\n",
      "[2. 2. 5. 2. 2.]\n",
      "[2. 2. 2. 2. 2.]\n",
      "[2. 2. 2. 2. 2.]\n"
     ]
    }
   ],
   "source": [
    "# canvas_size = (5, 5)\n",
    "# pixel_matrix_zeros = np.zeros(canvas_size)\n",
    "\n",
    "for row in pixel_matrix_zeros:\n",
    "    print(row+2)\n",
    "    pixel_matrix_zeros[2][2] = 3"
   ]
  },
  {
   "cell_type": "code",
   "execution_count": 39,
   "id": "348e0422-5e5f-4cb8-aee7-3788acfd7bc2",
   "metadata": {},
   "outputs": [
    {
     "data": {
      "text/plain": [
       "array([[0., 0., 0., 0., 0.],\n",
       "       [0., 0., 0., 0., 0.],\n",
       "       [0., 0., 3., 0., 0.],\n",
       "       [0., 0., 0., 0., 0.],\n",
       "       [0., 0., 0., 0., 0.]])"
      ]
     },
     "execution_count": 39,
     "metadata": {},
     "output_type": "execute_result"
    }
   ],
   "source": [
    "pixel_matrix_zeros"
   ]
  },
  {
   "cell_type": "code",
   "execution_count": 72,
   "id": "245ec563-1663-42f6-a57a-3b956eebc923",
   "metadata": {},
   "outputs": [
    {
     "data": {
      "text/plain": [
       "5"
      ]
     },
     "execution_count": 72,
     "metadata": {},
     "output_type": "execute_result"
    }
   ],
   "source": [
    "len(pixel_matrix_zeros)"
   ]
  },
  {
   "cell_type": "code",
   "execution_count": 70,
   "id": "f57f29e3-d50a-47c5-a703-e047fc20eb16",
   "metadata": {},
   "outputs": [],
   "source": [
    "for i in range(len(pixel_matrix_zeros)):\n",
    "    pixel_matrix_zeros[i] = 2;"
   ]
  },
  {
   "cell_type": "code",
   "execution_count": 32,
   "id": "9875e877-f9de-4fdc-9f31-95dc04a2a887",
   "metadata": {},
   "outputs": [
    {
     "data": {
      "text/plain": [
       "array([[2., 2., 2., 2., 2.],\n",
       "       [2., 2., 2., 2., 2.],\n",
       "       [2., 2., 2., 2., 2.],\n",
       "       [2., 2., 2., 2., 2.],\n",
       "       [2., 2., 2., 2., 2.]])"
      ]
     },
     "execution_count": 32,
     "metadata": {},
     "output_type": "execute_result"
    }
   ],
   "source": [
    "pixel_matrix_zeros"
   ]
  },
  {
   "cell_type": "code",
   "execution_count": 63,
   "id": "0163e30e-a012-446f-865f-3f4af1592169",
   "metadata": {},
   "outputs": [],
   "source": [
    "pixel_matrix_zeros[2][2] = 5\n",
    "# len(pixel_matrix)"
   ]
  },
  {
   "cell_type": "code",
   "execution_count": 64,
   "id": "48e21fc5-6a15-43cc-b061-57869c6efdb5",
   "metadata": {},
   "outputs": [
    {
     "data": {
      "text/plain": [
       "array([[2., 2., 2., 2., 2.],\n",
       "       [2., 2., 2., 2., 2.],\n",
       "       [2., 2., 5., 2., 2.],\n",
       "       [2., 2., 2., 2., 2.],\n",
       "       [2., 2., 2., 2., 2.]])"
      ]
     },
     "execution_count": 64,
     "metadata": {},
     "output_type": "execute_result"
    }
   ],
   "source": [
    "pixel_matrix_zeros"
   ]
  },
  {
   "cell_type": "markdown",
   "id": "2c01afab-a702-4d62-a2d3-a6c493a843fd",
   "metadata": {},
   "source": [
    "### Code Sample 2: Drawing Shapes"
   ]
  },
  {
   "cell_type": "code",
   "execution_count": 42,
   "id": "5e24b444-1d28-4ad5-a1c4-29752855923b",
   "metadata": {},
   "outputs": [],
   "source": [
    "# Drawing Basic Shapes in Python\n",
    "\n",
    "## Objectives:\n",
    "# - Practice drawing geometric shapes\n",
    "# - Understand coordinate systems and colors\n",
    "\n",
    "## Part A: Using Pillow\n",
    "\n",
    "# ```python\n",
    "from PIL import Image, ImageDraw\n",
    "\n",
    "# Create a white canvas\n",
    "img = Image.new(\"RGB\", (400, 400), \"white\")\n",
    "draw = ImageDraw.Draw(img)\n",
    "\n",
    "# Draw grid\n",
    "for i in range(0, 401, 10):\n",
    "    draw.line([(i, 0), (i, 400)], fill=\"lightgray\")\n",
    "    draw.line([(0, i), (400, i)], fill=\"lightgray\")\n",
    "\n",
    "# Draw shapes\n",
    "draw.rectangle([50, 50, 150, 150], outline=\"black\", fill=\"red\")\n",
    "draw.ellipse([200, 50, 300, 150], outline=\"black\", fill=\"green\")\n",
    "draw.polygon([(200, 200), (250, 300), (150, 300)], fill=\"blue\")\n",
    "\n",
    "# Add text\n",
    "# draw.text((100, 160), \"Red Square\", fill=\"black\")\n",
    "\n",
    "img.show()\n",
    "img.save(\"shapes1.jpg\")"
   ]
  },
  {
   "cell_type": "code",
   "execution_count": 42,
   "id": "bbfed616-d851-433c-90f9-a0ba980303c9",
   "metadata": {},
   "outputs": [
    {
     "name": "stdout",
     "output_type": "stream",
     "text": [
      "Requirement already satisfied: matplotlib in c:\\users\\ezekiel\\anaconda3\\envs\\graphics-viscual-computing\\lib\\site-packages (3.9.1)\n",
      "Requirement already satisfied: contourpy>=1.0.1 in c:\\users\\ezekiel\\anaconda3\\envs\\graphics-viscual-computing\\lib\\site-packages (from matplotlib) (1.2.1)\n",
      "Requirement already satisfied: cycler>=0.10 in c:\\users\\ezekiel\\anaconda3\\envs\\graphics-viscual-computing\\lib\\site-packages (from matplotlib) (0.12.1)\n",
      "Requirement already satisfied: fonttools>=4.22.0 in c:\\users\\ezekiel\\anaconda3\\envs\\graphics-viscual-computing\\lib\\site-packages (from matplotlib) (4.53.1)\n",
      "Requirement already satisfied: kiwisolver>=1.3.1 in c:\\users\\ezekiel\\anaconda3\\envs\\graphics-viscual-computing\\lib\\site-packages (from matplotlib) (1.4.5)\n",
      "Requirement already satisfied: numpy>=1.23 in c:\\users\\ezekiel\\anaconda3\\envs\\graphics-viscual-computing\\lib\\site-packages (from matplotlib) (2.0.1)\n",
      "Requirement already satisfied: packaging>=20.0 in c:\\users\\ezekiel\\anaconda3\\envs\\graphics-viscual-computing\\lib\\site-packages (from matplotlib) (24.1)\n",
      "Requirement already satisfied: pillow>=8 in c:\\users\\ezekiel\\anaconda3\\envs\\graphics-viscual-computing\\lib\\site-packages (from matplotlib) (10.4.0)\n",
      "Requirement already satisfied: pyparsing>=2.3.1 in c:\\users\\ezekiel\\anaconda3\\envs\\graphics-viscual-computing\\lib\\site-packages (from matplotlib) (3.1.2)\n",
      "Requirement already satisfied: python-dateutil>=2.7 in c:\\users\\ezekiel\\anaconda3\\envs\\graphics-viscual-computing\\lib\\site-packages (from matplotlib) (2.9.0.post0)\n",
      "Requirement already satisfied: importlib-resources>=3.2.0 in c:\\users\\ezekiel\\anaconda3\\envs\\graphics-viscual-computing\\lib\\site-packages (from matplotlib) (6.4.0)\n",
      "Requirement already satisfied: zipp>=3.1.0 in c:\\users\\ezekiel\\anaconda3\\envs\\graphics-viscual-computing\\lib\\site-packages (from importlib-resources>=3.2.0->matplotlib) (3.17.0)\n",
      "Requirement already satisfied: six>=1.5 in c:\\users\\ezekiel\\anaconda3\\envs\\graphics-viscual-computing\\lib\\site-packages (from python-dateutil>=2.7->matplotlib) (1.16.0)\n",
      "Note: you may need to restart the kernel to use updated packages.\n"
     ]
    }
   ],
   "source": [
    "pip install matplotlib"
   ]
  },
  {
   "cell_type": "code",
   "execution_count": 47,
   "id": "1e98c7f0-3a46-472d-97fd-2f5c4f783707",
   "metadata": {},
   "outputs": [
    {
     "data": {
      "image/png": "[encoded data removed]",
      "text/plain": [
       "<Figure size 640x480 with 1 Axes>"
      ]
     },
     "metadata": {},
     "output_type": "display_data"
    }
   ],
   "source": [
    "import matplotlib.pyplot as plt\n",
    "import matplotlib.patches as patches\n",
    "\n",
    "fig, ax = plt.subplots()\n",
    "\n",
    "# Rectangle\n",
    "triangle = patches.Polygon([[0.5, 0.7], [0.6, 0.9], [0.4, 0.9]], closed=True, facecolor='blue')\n",
    "rect = patches.Rectangle((0.1, 0.1), 0.2, 0.2, facecolor='red', edgecolor='black')\n",
    "circle = patches.Circle((0.7, 0.3), 0.15, facecolor='green', edgecolor='black')\n",
    "\n",
    "ax.add_patch(rect)\n",
    "ax.add_patch(circle)\n",
    "ax.add_patch(triangle)\n",
    "\n",
    "plt.axis('equal')\n",
    "plt.axis('off')\n",
    "plt.show()"
   ]
  },
  {
   "cell_type": "code",
   "execution_count": 6,
   "id": "8375d5a2-a5f1-415e-955c-6b250cafd590",
   "metadata": {},
   "outputs": [],
   "source": [
    "# pip freeze"
   ]
  },
  {
   "cell_type": "code",
   "execution_count": 4,
   "id": "31ef32b6-2584-430e-90eb-8375fafe2e59",
   "metadata": {},
   "outputs": [
    {
     "data": {
      "text/plain": [
       "'C:\\\\Users\\\\Ezekiel\\\\Documents\\\\BACUNGAN_GVC'"
      ]
     },
     "execution_count": 4,
     "metadata": {},
     "output_type": "execute_result"
    }
   ],
   "source": [
    "pwd"
   ]
  },
  {
   "cell_type": "code",
   "execution_count": 5,
   "id": "2da0de82-2587-47ce-9d61-68ff92e88752",
   "metadata": {},
   "outputs": [],
   "source": [
    "root_dir = os.getcwd()"
   ]
  },
  {
   "cell_type": "code",
   "execution_count": 6,
   "id": "0e12a069-b805-4c01-b2d4-a2bf336a9734",
   "metadata": {},
   "outputs": [
    {
     "data": {
      "text/plain": [
       "'C:\\\\Users\\\\Ezekiel\\\\Documents\\\\BACUNGAN_GVC'"
      ]
     },
     "execution_count": 6,
     "metadata": {},
     "output_type": "execute_result"
    }
   ],
   "source": [
    "root_dir"
   ]
  },
  {
   "cell_type": "code",
   "execution_count": 19,
   "id": "48d56979-c7e7-4377-9a38-5366c8950f6a",
   "metadata": {},
   "outputs": [],
   "source": [
    "file = \"blank_canvas_blue_rectangle.png\""
   ]
  },
  {
   "cell_type": "code",
   "execution_count": 20,
   "id": "04bd932f-c4cc-4ab3-acf8-e46082a9e0ad",
   "metadata": {},
   "outputs": [],
   "source": [
    "file_dir = os.path.join(root_dir, file)"
   ]
  },
  {
   "cell_type": "code",
   "execution_count": 21,
   "id": "4438b5c7-081c-476b-ac8e-3e656b865f29",
   "metadata": {},
   "outputs": [
    {
     "data": {
      "text/plain": [
       "'C:\\\\Users\\\\Ezekiel\\\\Documents\\\\BACUNGAN_GVC\\\\blank_canvas_blue_rectangle.png'"
      ]
     },
     "execution_count": 21,
     "metadata": {},
     "output_type": "execute_result"
    }
   ],
   "source": [
    "file_dir"
   ]
  },
  {
   "cell_type": "code",
   "execution_count": 22,
   "id": "5f86001f-4be3-4f80-a2e5-4f0d853010ba",
   "metadata": {},
   "outputs": [
    {
     "data": {
      "text/plain": [
       "True"
      ]
     },
     "execution_count": 22,
     "metadata": {},
     "output_type": "execute_result"
    }
   ],
   "source": [
    "os.path.exists(file_dir)"
   ]
  },
  {
   "cell_type": "code",
   "execution_count": 24,
   "id": "7b339e7e-e36b-43e8-aa2c-b7c58776671b",
   "metadata": {},
   "outputs": [],
   "source": [
    "image = cv2.imread(file_dir)"
   ]
  },
  {
   "cell_type": "code",
   "execution_count": 27,
   "id": "9c1a1442-e03a-4be8-8b7d-5c23fe7f4770",
   "metadata": {},
   "outputs": [
    {
     "data": {
      "text/plain": [
       "-1"
      ]
     },
     "execution_count": 27,
     "metadata": {},
     "output_type": "execute_result"
    }
   ],
   "source": [
    "cv2.imshow('image', image)\n",
    "cv2.waitKey()"
   ]
  },
  {
   "cell_type": "code",
   "execution_count": 28,
   "id": "fe509275-a5dd-4595-8a04-2038922f3782",
   "metadata": {},
   "outputs": [
    {
     "name": "stdout",
     "output_type": "stream",
     "text": [
      "hello\n"
     ]
    }
   ],
   "source": [
    "print(\"hello\")"
   ]
  }
 ],
 "metadata": {
  "kernelspec": {
   "display_name": "Python 3 (ipykernel)",
   "language": "python",
   "name": "python3"
  },
  "language_info": {
   "codemirror_mode": {
    "name": "ipython",
    "version": 3
   },
   "file_extension": ".py",
   "mimetype": "text/x-python",
   "name": "python",
   "nbconvert_exporter": "python",
   "pygments_lexer": "ipython3",
   "version": "3.9.19"
  }
 },
 "nbformat": 4,
 "nbformat_minor": 5
}
