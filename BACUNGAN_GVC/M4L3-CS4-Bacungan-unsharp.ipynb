{
 "cells": [
  {
   "cell_type": "markdown",
   "id": "bf2a968f",
   "metadata": {},
   "source": [
    "# Digital Filters"
   ]
  },
  {
   "cell_type": "markdown",
   "id": "e64befd8",
   "metadata": {},
   "source": [
    "Unsharp"
   ]
  },
  {
   "cell_type": "code",
   "execution_count": 2,
   "id": "b856749f",
   "metadata": {},
   "outputs": [],
   "source": [
    "# Importing libraries\n",
    "import os\n",
    "import cv2\n",
    "import numpy as np\n",
    "import matplotlib.pyplot as plt"
   ]
  },
  {
   "cell_type": "markdown",
   "id": "34455ac5",
   "metadata": {},
   "source": [
    "install scikit-image library below"
   ]
  },
  {
   "cell_type": "code",
   "execution_count": 3,
   "id": "e5a68e01",
   "metadata": {},
   "outputs": [],
   "source": [
    "# pip install scikit-image"
   ]
  },
  {
   "cell_type": "code",
   "execution_count": 4,
   "id": "be43526c",
   "metadata": {},
   "outputs": [],
   "source": [
    "# additional library from scikit-image\n",
    "from skimage.util import random_noise # adds noise to our image"
   ]
  },
  {
   "cell_type": "markdown",
   "id": "0ccc3436",
   "metadata": {},
   "source": [
    "check root directory"
   ]
  },
  {
   "cell_type": "code",
   "execution_count": 5,
   "id": "f280dbae",
   "metadata": {},
   "outputs": [
    {
     "data": {
      "text/plain": [
       "'c:\\\\Users\\\\Ezekiel\\\\Documents\\\\GitHub\\\\graphics-and-visual-computing\\\\BACUNGAN_GVC'"
      ]
     },
     "execution_count": 5,
     "metadata": {},
     "output_type": "execute_result"
    }
   ],
   "source": [
    "pwd"
   ]
  },
  {
   "cell_type": "code",
   "execution_count": 30,
   "id": "b817e7ae",
   "metadata": {},
   "outputs": [
    {
     "name": "stdout",
     "output_type": "stream",
     "text": [
      "0 c:\\Users\\Ezekiel\\Documents\\GitHub\\graphics-and-visual-computing\\BACUNGAN_GVC\\blank_canvas_blue_rectangle.png\n",
      "1 c:\\Users\\Ezekiel\\Documents\\GitHub\\graphics-and-visual-computing\\BACUNGAN_GVC\\shapes1.jpg\n",
      "2 c:\\Users\\Ezekiel\\Documents\\GitHub\\graphics-and-visual-computing\\BACUNGAN_GVC\\resources\\blank_canvas_blue_rectangle.png\n",
      "3 c:\\Users\\Ezekiel\\Documents\\GitHub\\graphics-and-visual-computing\\BACUNGAN_GVC\\resources\\blank_canvas_blue_rectangle_resize.png\n",
      "4 c:\\Users\\Ezekiel\\Documents\\GitHub\\graphics-and-visual-computing\\BACUNGAN_GVC\\resources\\blank_canvas_blue_rectangle_revise.png\n",
      "5 c:\\Users\\Ezekiel\\Documents\\GitHub\\graphics-and-visual-computing\\BACUNGAN_GVC\\resources\\blank_canvas_violet_rectangle.png\n",
      "6 c:\\Users\\Ezekiel\\Documents\\GitHub\\graphics-and-visual-computing\\BACUNGAN_GVC\\resources\\box.jpg\n",
      "7 c:\\Users\\Ezekiel\\Documents\\GitHub\\graphics-and-visual-computing\\BACUNGAN_GVC\\resources\\cameraman.jpg\n",
      "8 c:\\Users\\Ezekiel\\Documents\\GitHub\\graphics-and-visual-computing\\BACUNGAN_GVC\\resources\\car.png\n",
      "9 c:\\Users\\Ezekiel\\Documents\\GitHub\\graphics-and-visual-computing\\BACUNGAN_GVC\\resources\\erod-2.jpg\n",
      "10 c:\\Users\\Ezekiel\\Documents\\GitHub\\graphics-and-visual-computing\\BACUNGAN_GVC\\resources\\forest1.jpg\n",
      "11 c:\\Users\\Ezekiel\\Documents\\GitHub\\graphics-and-visual-computing\\BACUNGAN_GVC\\resources\\forest2.jpg\n",
      "12 c:\\Users\\Ezekiel\\Documents\\GitHub\\graphics-and-visual-computing\\BACUNGAN_GVC\\resources\\lotion_gray.jpg\n",
      "13 c:\\Users\\Ezekiel\\Documents\\GitHub\\graphics-and-visual-computing\\BACUNGAN_GVC\\resources\\shapes1.jpg\n",
      "14 c:\\Users\\Ezekiel\\Documents\\GitHub\\graphics-and-visual-computing\\BACUNGAN_GVC\\resources\\splash_gray.jpg\n",
      "15 c:\\Users\\Ezekiel\\Documents\\GitHub\\graphics-and-visual-computing\\BACUNGAN_GVC\\resources\\squirel.jpg\n"
     ]
    }
   ],
   "source": [
    "# creating a file list\n",
    "file_list = []\n",
    "\n",
    "# traversing the root directory\n",
    "for (root, dirs, files) in os.walk(os.getcwd()):\n",
    "    for f in files:\n",
    "        if f.endswith(('jpg', 'jpeg', 'png')): # get all image files\n",
    "            file_list.append(os.path.join(root, f))\n",
    "\n",
    "# display all the image files with index number\n",
    "counter = 0;\n",
    "for file in file_list:\n",
    "    print(counter,file)\n",
    "    counter = counter + 1;"
   ]
  },
  {
   "cell_type": "code",
   "execution_count": 31,
   "id": "f1f34db7",
   "metadata": {},
   "outputs": [],
   "source": [
    "# saving the file path to a variable\n",
    "image1_file_path = file_list[11] # use box.jpg"
   ]
  },
  {
   "cell_type": "code",
   "execution_count": 32,
   "id": "23261db5",
   "metadata": {},
   "outputs": [],
   "source": [
    "# loading image and storing it in a variable\n",
    "img_in = cv2.imread(image1_file_path)"
   ]
  },
  {
   "cell_type": "code",
   "execution_count": 33,
   "id": "a660161d",
   "metadata": {},
   "outputs": [
    {
     "data": {
      "text/plain": [
       "-1"
      ]
     },
     "execution_count": 33,
     "metadata": {},
     "output_type": "execute_result"
    }
   ],
   "source": [
    "cv2.imshow(\"image\",img_in)\n",
    "cv2.waitKey()"
   ]
  },
  {
   "cell_type": "code",
   "execution_count": 38,
   "id": "44ac529b",
   "metadata": {},
   "outputs": [],
   "source": [
    "# create a 3x3 kernel\n",
    "kernel_size = (5, 5)\n",
    "\n",
    "# apply a gaussian to our image using cv2.blur()\n",
    "blurred = cv2.GaussianBlur(img_in, kernel_size, sigmaX=1.5)"
   ]
  },
  {
   "cell_type": "code",
   "execution_count": 39,
   "id": "a4d51eba",
   "metadata": {},
   "outputs": [],
   "source": [
    "# Display the original and filtered images\n",
    "cv2.imshow('Original Image', img_in)\n",
    "cv2.imshow('Gaussian Filtered Image', blurred)\n",
    "cv2.waitKey(0)\n",
    "cv2.destroyAllWindows()"
   ]
  },
  {
   "cell_type": "code",
   "execution_count": 44,
   "id": "7594ee55",
   "metadata": {},
   "outputs": [],
   "source": [
    "# Compute the unsharp mask\n",
    "unsharp_mask = cv2.addWeighted(img_in, 1.5, blurred, -0.5, 0)"
   ]
  },
  {
   "cell_type": "code",
   "execution_count": 45,
   "id": "41fcb9fc",
   "metadata": {},
   "outputs": [],
   "source": [
    "# Display the results\n",
    "cv2.imshow(\"Original Image\", img_in)\n",
    "cv2.imshow(\"Blurred Image\", blurred)\n",
    "cv2.imshow(\"Unsharp Masked Image\", unsharp_mask)\n",
    "\n",
    "cv2.waitKey(0)\n",
    "cv2.destroyAllWindows()"
   ]
  },
  {
   "cell_type": "code",
   "execution_count": null,
   "id": "e075eeed",
   "metadata": {},
   "outputs": [],
   "source": []
  }
 ],
 "metadata": {
  "kernelspec": {
   "display_name": "graphics-viscual-computing",
   "language": "python",
   "name": "python3"
  },
  "language_info": {
   "codemirror_mode": {
    "name": "ipython",
    "version": 3
   },
   "file_extension": ".py",
   "mimetype": "text/x-python",
   "name": "python",
   "nbconvert_exporter": "python",
   "pygments_lexer": "ipython3",
   "version": "3.9.19"
  }
 },
 "nbformat": 4,
 "nbformat_minor": 5
}
